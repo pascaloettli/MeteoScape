{
 "cells": [
  {
   "cell_type": "markdown",
   "id": "8b299455",
   "metadata": {},
   "source": [
    "# Input data for MeteoScape, TC Nepartak"
   ]
  },
  {
   "cell_type": "markdown",
   "id": "d65556ab",
   "metadata": {},
   "source": [
    "## Environment"
   ]
  },
  {
   "cell_type": "code",
   "execution_count": 1,
   "id": "09c8f96c",
   "metadata": {
    "scrolled": false
   },
   "outputs": [],
   "source": [
    "#Libraries\n",
    "libs <- c(\"tidyverse\", \"metR\", \"data.table\", \"sf\", \"anndata\")\n",
    "invisible(suppressPackageStartupMessages(lapply(libs, library, character.only = TRUE)))\n",
    "Sys.setenv(TZ = \"UTC\")\n",
    "\n",
    "# Set seed for Random Number Generation. Necessary for {jitter} to reproduce the same jittering\n",
    "set.seed(42)\n",
    "\n",
    "# Set jitter amount of +/- 1 meter maximum\n",
    "jitter_amount <- 1"
   ]
  },
  {
   "cell_type": "markdown",
   "id": "d7bdfb5b",
   "metadata": {},
   "source": [
    "## Miscellaneous variables"
   ]
  },
  {
   "cell_type": "code",
   "execution_count": 2,
   "id": "dad248d9",
   "metadata": {},
   "outputs": [],
   "source": [
    "# Tropical cyclone ID\n",
    "ID <- \"2021-08.NEPARTAK\"\n",
    "\n",
    "# Geodetic coordinate system for World\n",
    "lonlat <- \"EPSG:4326\"\n",
    "# Projected coordinate system for Japan \n",
    "eqdc <- \"EPSG:6690\"\n",
    "\n",
    "# Location of NetCDF data for TC\n",
    "# Data are available from https://doi.org/10.5281/zenodo.11064128\n",
    "basedir <- paste(\"../Data\", ID, sep = \"/\")\n",
    "lst <- list.dirs(basedir)\n",
    "lst <- lst[!(list.dirs(basedir) %in% basedir)]\n",
    "\n",
    "# Parent folder, one by ensemble member\n",
    "BN <- basename(lst)\n",
    "# EM = total number of ensemble members\n",
    "EM <- length(BN)\n",
    "# IT = total number of initialization times\n",
    "IT <- length(list.files(paste(basedir, BN[1], sep = \"/\")))\n",
    "# FT = total number of forecasting time by IT\n",
    "FT <- 14\n",
    "\n",
    "# List of all NetCDF files:\n",
    "lst <- list.files(basedir, recursive = TRUE, full.names = TRUE)\n",
    "lst <- split(lst, rep(seq_len(IT), EM))"
   ]
  },
  {
   "cell_type": "markdown",
   "id": "74b38cfa",
   "metadata": {},
   "source": [
    "## Creating the data.table from NetCDF files"
   ]
  },
  {
   "cell_type": "code",
   "execution_count": 3,
   "id": "0a6c813b",
   "metadata": {},
   "outputs": [],
   "source": [
    "# Initialization of final data.table\n",
    "Tracks <- NULL\n",
    "for(i in 1:IT){  # Loop through initialization times IT\n",
    "  for(m in 1:EM){  # Loop through ensemble members EM\n",
    "    f0 <- lst[[i]][m]  # Files by IT and EM\n",
    "    InitTime <- as.POSIXct(strptime(sub(\"([0-9]+).*$\", \"\\\\1\",  basename(f0)), \"%Y%m%d%H%M%S\")) # Write initializatin time\n",
    "    tmp <- ReadNetCDF(f0)  # Read NetCDF file into temporary data.table\n",
    "    setnames(tmp, \"time\", \"ForecastingTime\")  # Change column \"time\" name for \"ForecastingTime\"\n",
    "    tmp[ , Member := factor(m-1) ]  # Factorization of ensemble member name\n",
    "    tmp[ , InitializationTime := InitTime ]  # Add IT column to the data.table\n",
    "    Tracks <- rbind(Tracks, tmp)  # Concatenate with final data.table\n",
    "    rm(tmp); gc()  # Remove temporary data.table and free memory\n",
    "  }\n",
    "}\n",
    "# Forecast horizon HZ (1 = analysis, 14 = +39 hrs)\n",
    "Tracks[ , Horizon := as.numeric((ForecastingTime - InitializationTime)/3600)]\n",
    "# Needed modification of the TC center position (+/- 1m maximum).\n",
    "Tracks[ , `:=`(X = jitter(X, amount = jitter_amount),  Y = jitter(Y, amount = jitter_amount)) ]\n",
    "# Grouping variable based on the combination of IT and EM\n",
    "Tracks[ , gr := .GRP, .(InitializationTime, Member)]\n",
    "# Normalization by global mean and sd in both X and Y directions\n",
    "Tracks[ , `:=`(X = scale(X), Y = scale(Y)) ]\n",
    "# Time delta\n",
    "Tracks[ , dT := (as.numeric(shift(ForecastingTime, -1)) - as.numeric(ForecastingTime))/(60*60), .(gr)]\n",
    "# Spatial delta\n",
    "Tracks[ , dX := round(shift(X, -1) - X, 4), .(gr)]\n",
    "Tracks[ , dY := round(shift(Y, -1) - Y, 4), .(gr)]\n",
    "# Midpoints between 2 consecutive positions\n",
    "Tracks[ , `:=`(Xm = (shift(X, -1) + X)/2, Ym = (shift(Y, -1) + Y)/2), .(gr) ]\n",
    "# Velocities\n",
    "Tracks[ , velocX := round(dX/dT, 4)/1, .(gr)]\n",
    "Tracks[ , velocY := round(dY/dT, 4)/1, .(gr)]\n",
    "# Removing rows with no position/velocity\n",
    "Tracks <- Tracks[ !is.na(dT) ]\n",
    "# Set order by IT, then EM, then HZ\n",
    "setorder(Tracks, InitializationTime, Member, Horizon)"
   ]
  },
  {
   "cell_type": "code",
   "execution_count": 4,
   "id": "d298cf83",
   "metadata": {
    "scrolled": true
   },
   "outputs": [
    {
     "data": {
      "text/html": [
       "<table class=\"dataframe\">\n",
       "<caption>A data.table: 5 × 18</caption>\n",
       "<thead>\n",
       "\t<tr><th scope=col>ForecastingTime</th><th scope=col>lon</th><th scope=col>lat</th><th scope=col>X</th><th scope=col>Y</th><th scope=col>X1</th><th scope=col>Y1</th><th scope=col>Member</th><th scope=col>InitializationTime</th><th scope=col>Horizon</th><th scope=col>gr</th><th scope=col>dT</th><th scope=col>dX</th><th scope=col>dY</th><th scope=col>Xm</th><th scope=col>Ym</th><th scope=col>velocX</th><th scope=col>velocY</th></tr>\n",
       "\t<tr><th scope=col>&lt;dttm&gt;</th><th scope=col>&lt;dbl&gt;</th><th scope=col>&lt;dbl&gt;</th><th scope=col>&lt;dbl&gt;</th><th scope=col>&lt;dbl&gt;</th><th scope=col>&lt;dbl&gt;</th><th scope=col>&lt;dbl&gt;</th><th scope=col>&lt;fct&gt;</th><th scope=col>&lt;dttm&gt;</th><th scope=col>&lt;dbl&gt;</th><th scope=col>&lt;int&gt;</th><th scope=col>&lt;dbl&gt;</th><th scope=col>&lt;dbl&gt;</th><th scope=col>&lt;dbl&gt;</th><th scope=col>&lt;dbl&gt;</th><th scope=col>&lt;dbl&gt;</th><th scope=col>&lt;dbl&gt;</th><th scope=col>&lt;dbl&gt;</th></tr>\n",
       "</thead>\n",
       "<tbody>\n",
       "\t<tr><td>2021-07-25 18:00:00</td><td>149.28</td><td>35.17</td><td>3.192334</td><td>-1.354570</td><td> 0.0000000</td><td> 0.00000000</td><td>0</td><td>2021-07-25 18:00:00</td><td> 0</td><td>1</td><td>3</td><td>-0.3961</td><td>-0.0091</td><td>2.994291</td><td>-1.359119</td><td>-0.1320</td><td>-0.0030</td></tr>\n",
       "\t<tr><td>2021-07-25 21:00:00</td><td>148.06</td><td>35.29</td><td>2.796248</td><td>-1.363668</td><td>-0.4281234</td><td>-0.02797162</td><td>0</td><td>2021-07-25 18:00:00</td><td> 3</td><td>1</td><td>3</td><td>-0.3049</td><td>-0.0539</td><td>2.643802</td><td>-1.390610</td><td>-0.1016</td><td>-0.0180</td></tr>\n",
       "\t<tr><td>2021-07-26 00:00:00</td><td>147.10</td><td>35.27</td><td>2.491356</td><td>-1.417552</td><td>-0.7576730</td><td>-0.19367054</td><td>0</td><td>2021-07-25 18:00:00</td><td> 6</td><td>1</td><td>3</td><td>-0.1591</td><td>-0.1793</td><td>2.411782</td><td>-1.507182</td><td>-0.0530</td><td>-0.0598</td></tr>\n",
       "\t<tr><td>2021-07-26 03:00:00</td><td>146.55</td><td>34.92</td><td>2.332208</td><td>-1.596811</td><td>-0.9296974</td><td>-0.74485058</td><td>0</td><td>2021-07-25 18:00:00</td><td> 9</td><td>1</td><td>3</td><td>-0.1075</td><td>-0.0590</td><td>2.278463</td><td>-1.626312</td><td>-0.0358</td><td>-0.0197</td></tr>\n",
       "\t<tr><td>2021-07-26 06:00:00</td><td>146.20</td><td>34.82</td><td>2.224718</td><td>-1.655813</td><td>-1.0458810</td><td>-0.92628914</td><td>0</td><td>2021-07-25 18:00:00</td><td>12</td><td>1</td><td>3</td><td>-0.1449</td><td> 0.0937</td><td>2.152244</td><td>-1.608978</td><td>-0.0483</td><td> 0.0312</td></tr>\n",
       "</tbody>\n",
       "</table>\n"
      ],
      "text/latex": [
       "A data.table: 5 × 18\n",
       "\\begin{tabular}{llllllllllllllllll}\n",
       " ForecastingTime & lon & lat & X & Y & X1 & Y1 & Member & InitializationTime & Horizon & gr & dT & dX & dY & Xm & Ym & velocX & velocY\\\\\n",
       " <dttm> & <dbl> & <dbl> & <dbl> & <dbl> & <dbl> & <dbl> & <fct> & <dttm> & <dbl> & <int> & <dbl> & <dbl> & <dbl> & <dbl> & <dbl> & <dbl> & <dbl>\\\\\n",
       "\\hline\n",
       "\t 2021-07-25 18:00:00 & 149.28 & 35.17 & 3.192334 & -1.354570 &  0.0000000 &  0.00000000 & 0 & 2021-07-25 18:00:00 &  0 & 1 & 3 & -0.3961 & -0.0091 & 2.994291 & -1.359119 & -0.1320 & -0.0030\\\\\n",
       "\t 2021-07-25 21:00:00 & 148.06 & 35.29 & 2.796248 & -1.363668 & -0.4281234 & -0.02797162 & 0 & 2021-07-25 18:00:00 &  3 & 1 & 3 & -0.3049 & -0.0539 & 2.643802 & -1.390610 & -0.1016 & -0.0180\\\\\n",
       "\t 2021-07-26 00:00:00 & 147.10 & 35.27 & 2.491356 & -1.417552 & -0.7576730 & -0.19367054 & 0 & 2021-07-25 18:00:00 &  6 & 1 & 3 & -0.1591 & -0.1793 & 2.411782 & -1.507182 & -0.0530 & -0.0598\\\\\n",
       "\t 2021-07-26 03:00:00 & 146.55 & 34.92 & 2.332208 & -1.596811 & -0.9296974 & -0.74485058 & 0 & 2021-07-25 18:00:00 &  9 & 1 & 3 & -0.1075 & -0.0590 & 2.278463 & -1.626312 & -0.0358 & -0.0197\\\\\n",
       "\t 2021-07-26 06:00:00 & 146.20 & 34.82 & 2.224718 & -1.655813 & -1.0458810 & -0.92628914 & 0 & 2021-07-25 18:00:00 & 12 & 1 & 3 & -0.1449 &  0.0937 & 2.152244 & -1.608978 & -0.0483 &  0.0312\\\\\n",
       "\\end{tabular}\n"
      ],
      "text/markdown": [
       "\n",
       "A data.table: 5 × 18\n",
       "\n",
       "| ForecastingTime &lt;dttm&gt; | lon &lt;dbl&gt; | lat &lt;dbl&gt; | X &lt;dbl&gt; | Y &lt;dbl&gt; | X1 &lt;dbl&gt; | Y1 &lt;dbl&gt; | Member &lt;fct&gt; | InitializationTime &lt;dttm&gt; | Horizon &lt;dbl&gt; | gr &lt;int&gt; | dT &lt;dbl&gt; | dX &lt;dbl&gt; | dY &lt;dbl&gt; | Xm &lt;dbl&gt; | Ym &lt;dbl&gt; | velocX &lt;dbl&gt; | velocY &lt;dbl&gt; |\n",
       "|---|---|---|---|---|---|---|---|---|---|---|---|---|---|---|---|---|---|\n",
       "| 2021-07-25 18:00:00 | 149.28 | 35.17 | 3.192334 | -1.354570 |  0.0000000 |  0.00000000 | 0 | 2021-07-25 18:00:00 |  0 | 1 | 3 | -0.3961 | -0.0091 | 2.994291 | -1.359119 | -0.1320 | -0.0030 |\n",
       "| 2021-07-25 21:00:00 | 148.06 | 35.29 | 2.796248 | -1.363668 | -0.4281234 | -0.02797162 | 0 | 2021-07-25 18:00:00 |  3 | 1 | 3 | -0.3049 | -0.0539 | 2.643802 | -1.390610 | -0.1016 | -0.0180 |\n",
       "| 2021-07-26 00:00:00 | 147.10 | 35.27 | 2.491356 | -1.417552 | -0.7576730 | -0.19367054 | 0 | 2021-07-25 18:00:00 |  6 | 1 | 3 | -0.1591 | -0.1793 | 2.411782 | -1.507182 | -0.0530 | -0.0598 |\n",
       "| 2021-07-26 03:00:00 | 146.55 | 34.92 | 2.332208 | -1.596811 | -0.9296974 | -0.74485058 | 0 | 2021-07-25 18:00:00 |  9 | 1 | 3 | -0.1075 | -0.0590 | 2.278463 | -1.626312 | -0.0358 | -0.0197 |\n",
       "| 2021-07-26 06:00:00 | 146.20 | 34.82 | 2.224718 | -1.655813 | -1.0458810 | -0.92628914 | 0 | 2021-07-25 18:00:00 | 12 | 1 | 3 | -0.1449 |  0.0937 | 2.152244 | -1.608978 | -0.0483 |  0.0312 |\n",
       "\n"
      ],
      "text/plain": [
       "  ForecastingTime     lon    lat   X        Y         X1         Y1          Member InitializationTime  Horizon gr dT dX      dY      Xm       Ym        velocX  velocY \n",
       "1 2021-07-25 18:00:00 149.28 35.17 3.192334 -1.354570  0.0000000  0.00000000 0      2021-07-25 18:00:00  0      1  3  -0.3961 -0.0091 2.994291 -1.359119 -0.1320 -0.0030\n",
       "2 2021-07-25 21:00:00 148.06 35.29 2.796248 -1.363668 -0.4281234 -0.02797162 0      2021-07-25 18:00:00  3      1  3  -0.3049 -0.0539 2.643802 -1.390610 -0.1016 -0.0180\n",
       "3 2021-07-26 00:00:00 147.10 35.27 2.491356 -1.417552 -0.7576730 -0.19367054 0      2021-07-25 18:00:00  6      1  3  -0.1591 -0.1793 2.411782 -1.507182 -0.0530 -0.0598\n",
       "4 2021-07-26 03:00:00 146.55 34.92 2.332208 -1.596811 -0.9296974 -0.74485058 0      2021-07-25 18:00:00  9      1  3  -0.1075 -0.0590 2.278463 -1.626312 -0.0358 -0.0197\n",
       "5 2021-07-26 06:00:00 146.20 34.82 2.224718 -1.655813 -1.0458810 -0.92628914 0      2021-07-25 18:00:00 12      1  3  -0.1449  0.0937 2.152244 -1.608978 -0.0483  0.0312"
      ]
     },
     "metadata": {},
     "output_type": "display_data"
    }
   ],
   "source": [
    "# Vizualization of the 5 first rows of \"Tracks\" data.table\n",
    "Tracks[1:5]"
   ]
  },
  {
   "cell_type": "markdown",
   "id": "981b9622",
   "metadata": {},
   "source": [
    "## Clusters"
   ]
  },
  {
   "cell_type": "code",
   "execution_count": 5,
   "id": "9cc358e9",
   "metadata": {},
   "outputs": [],
   "source": [
    "# Definition of the clusters\n",
    "\n",
    "# Cluster \"Northward\"\n",
    "xs <- list(x = c(-0.781715339849895, -0.442336080399338, -0.0899037725083766, \n",
    "                 0.57580169795233, 0.38000597134624, -0.298752547554873, -0.768662291409489), \n",
    "           y = c(1.56780824252617, 0.967368014267491, 0.706307045459371, \n",
    "                 0.797678384542214, 1.26758812839683, 1.69833872693023, 1.67223263004942\n",
    "           ))$x\n",
    "ys <- list(x = c(-0.781715339849895, -0.442336080399338, -0.0899037725083766, \n",
    "                 0.57580169795233, 0.38000597134624, -0.298752547554873, -0.768662291409489), \n",
    "           y = c(1.56780824252617, 0.967368014267491, 0.706307045459371, \n",
    "                 0.797678384542214, 1.26758812839683, 1.69833872693023, 1.67223263004942\n",
    "           ))$y\n",
    "\n",
    "# Spatial polygon (Projected coordinate system)\n",
    "Northward <- tibble(x = xs, y = ys, ID = 1) %>% \n",
    "  st_as_sf(coords = c(\"x\",\"y\"), crs = eqdc) %>% \n",
    "  dplyr::group_by(ID) %>% \n",
    "  dplyr::summarise() %>%\n",
    "  st_cast(\"POLYGON\") %>% \n",
    "  st_convex_hull()\n",
    "rm(xs, ys)\n",
    "\n",
    "\n",
    "# Cluster \"Westward\"\n",
    "xs <- list(x = c(-2.5308238308643, -2.20449761985415, -1.34299642278735, \n",
    "                 -1.38215556810857, -2.36113420113902), \n",
    "           y = c(1.21537593463521, 0.0275485265582587, 0.223344253164349, \n",
    "                 1.29369422527764, 1.54170214564536\n",
    "           ))$x\n",
    "ys <- list(x = c(-2.5308238308643, -2.20449761985415, -1.34299642278735, \n",
    "                 -1.38215556810857, -2.36113420113902), \n",
    "           y = c(1.21537593463521, 0.0275485265582587, 0.223344253164349, \n",
    "                 1.29369422527764, 1.54170214564536\n",
    "           ))$y\n",
    "\n",
    "# Spatial polygon (Projected coordinate system)\n",
    "Westward <- tibble(x = xs, y = ys, ID = 1) %>% \n",
    "  st_as_sf(coords = c(\"x\",\"y\"), crs = eqdc) %>% \n",
    "  dplyr::group_by(ID) %>% \n",
    "  dplyr::summarise() %>%\n",
    "  st_cast(\"POLYGON\") %>% \n",
    "  st_convex_hull()\n",
    "rm(xs, ys)\n",
    "\n",
    "\n",
    "# Cluster \"Start\"\n",
    "xs <- list(x = c(1.07181753868776, 0.353899874465428, 0.353899874465428, \n",
    "                 1.22845411997263, 1.42424984657872, 1.30677241061507, 1.00655229648573), \n",
    "           y = c(-2.37421238647645, -2.21757580519157, -1.69545386757533, \n",
    "                 -1.48660509252884, -1.73461301289655, -2.29589409583401, -2.36115933803604\n",
    "           ))$x\n",
    "ys <- list(x = c(1.07181753868776, 0.353899874465428, 0.353899874465428, \n",
    "                 1.22845411997263, 1.42424984657872, 1.30677241061507, 1.00655229648573), \n",
    "           y = c(-2.37421238647645, -2.21757580519157, -1.69545386757533, \n",
    "                 -1.48660509252884, -1.73461301289655, -2.29589409583401, -2.36115933803604\n",
    "           ))$y\n",
    "\n",
    "# Spatial polygon (Projected coordinate system)\n",
    "Start <- tibble(x = xs, y = ys, ID = 1) %>% \n",
    "  st_as_sf(coords = c(\"x\",\"y\"), crs = eqdc) %>% \n",
    "  dplyr::group_by(ID) %>% \n",
    "  dplyr::summarise() %>%\n",
    "  st_cast(\"POLYGON\") %>% \n",
    "  st_convex_hull()\n",
    "rm(xs, ys)\n",
    "\n",
    "\n",
    "# Extracting TC centers and project into new coordinate system\n",
    "Tracks[ , .(X, Y)] %>%\n",
    "  st_as_sf(coords = c(\"X\",\"Y\"), crs = eqdc) -> Y\n",
    "\n",
    "# Initialiaze Cluster column (TC centers not belonging to any cluster is blank)\n",
    "Tracks[ , Cluster := \" \"]\n",
    "\n",
    "# Capturing row index of TC centers inside polygon \"Start\"\n",
    "idx <- st_contains(Start, Y)[[1]]\n",
    "# Write cluster name\n",
    "Tracks[idx, Cluster := \"Start\"]\n",
    "rm(idx)\n",
    "\n",
    "# Capturing row index of TC centers inside polygon \"Northward\"\n",
    "idx <- st_contains(Northward, Y)[[1]]\n",
    "# Write cluster name\n",
    "Tracks[idx, Cluster := \"Northward\"]\n",
    "rm(idx)\n",
    "\n",
    "# Capturing row index of TC centers inside polygon \"Eastward\"\n",
    "idx <- st_contains(Westward, Y)[[1]]\n",
    "# Write cluster name\n",
    "Tracks[idx, Cluster := \"Westward\"]\n",
    "rm(idx)"
   ]
  },
  {
   "cell_type": "code",
   "execution_count": 6,
   "id": "d99dd2aa",
   "metadata": {},
   "outputs": [
    {
     "data": {
      "text/html": [
       "<table class=\"dataframe\">\n",
       "<caption>A data.table: 5 × 19</caption>\n",
       "<thead>\n",
       "\t<tr><th scope=col>ForecastingTime</th><th scope=col>lon</th><th scope=col>lat</th><th scope=col>X</th><th scope=col>Y</th><th scope=col>X1</th><th scope=col>Y1</th><th scope=col>Member</th><th scope=col>InitializationTime</th><th scope=col>Horizon</th><th scope=col>gr</th><th scope=col>dT</th><th scope=col>dX</th><th scope=col>dY</th><th scope=col>Xm</th><th scope=col>Ym</th><th scope=col>velocX</th><th scope=col>velocY</th><th scope=col>Cluster</th></tr>\n",
       "\t<tr><th scope=col>&lt;dttm&gt;</th><th scope=col>&lt;dbl&gt;</th><th scope=col>&lt;dbl&gt;</th><th scope=col>&lt;dbl&gt;</th><th scope=col>&lt;dbl&gt;</th><th scope=col>&lt;dbl&gt;</th><th scope=col>&lt;dbl&gt;</th><th scope=col>&lt;fct&gt;</th><th scope=col>&lt;dttm&gt;</th><th scope=col>&lt;dbl&gt;</th><th scope=col>&lt;int&gt;</th><th scope=col>&lt;dbl&gt;</th><th scope=col>&lt;dbl&gt;</th><th scope=col>&lt;dbl&gt;</th><th scope=col>&lt;dbl&gt;</th><th scope=col>&lt;dbl&gt;</th><th scope=col>&lt;dbl&gt;</th><th scope=col>&lt;dbl&gt;</th><th scope=col>&lt;chr&gt;</th></tr>\n",
       "</thead>\n",
       "<tbody>\n",
       "\t<tr><td>2021-07-25 18:00:00</td><td>149.28</td><td>35.17</td><td>3.192334</td><td>-1.354570</td><td> 0.0000000</td><td> 0.00000000</td><td>0</td><td>2021-07-25 18:00:00</td><td> 0</td><td>1</td><td>3</td><td>-0.3961</td><td>-0.0091</td><td>2.994291</td><td>-1.359119</td><td>-0.1320</td><td>-0.0030</td><td> </td></tr>\n",
       "\t<tr><td>2021-07-25 21:00:00</td><td>148.06</td><td>35.29</td><td>2.796248</td><td>-1.363668</td><td>-0.4281234</td><td>-0.02797162</td><td>0</td><td>2021-07-25 18:00:00</td><td> 3</td><td>1</td><td>3</td><td>-0.3049</td><td>-0.0539</td><td>2.643802</td><td>-1.390610</td><td>-0.1016</td><td>-0.0180</td><td> </td></tr>\n",
       "\t<tr><td>2021-07-26 00:00:00</td><td>147.10</td><td>35.27</td><td>2.491356</td><td>-1.417552</td><td>-0.7576730</td><td>-0.19367054</td><td>0</td><td>2021-07-25 18:00:00</td><td> 6</td><td>1</td><td>3</td><td>-0.1591</td><td>-0.1793</td><td>2.411782</td><td>-1.507182</td><td>-0.0530</td><td>-0.0598</td><td> </td></tr>\n",
       "\t<tr><td>2021-07-26 03:00:00</td><td>146.55</td><td>34.92</td><td>2.332208</td><td>-1.596811</td><td>-0.9296974</td><td>-0.74485058</td><td>0</td><td>2021-07-25 18:00:00</td><td> 9</td><td>1</td><td>3</td><td>-0.1075</td><td>-0.0590</td><td>2.278463</td><td>-1.626312</td><td>-0.0358</td><td>-0.0197</td><td> </td></tr>\n",
       "\t<tr><td>2021-07-26 06:00:00</td><td>146.20</td><td>34.82</td><td>2.224718</td><td>-1.655813</td><td>-1.0458810</td><td>-0.92628914</td><td>0</td><td>2021-07-25 18:00:00</td><td>12</td><td>1</td><td>3</td><td>-0.1449</td><td> 0.0937</td><td>2.152244</td><td>-1.608978</td><td>-0.0483</td><td> 0.0312</td><td> </td></tr>\n",
       "</tbody>\n",
       "</table>\n"
      ],
      "text/latex": [
       "A data.table: 5 × 19\n",
       "\\begin{tabular}{lllllllllllllllllll}\n",
       " ForecastingTime & lon & lat & X & Y & X1 & Y1 & Member & InitializationTime & Horizon & gr & dT & dX & dY & Xm & Ym & velocX & velocY & Cluster\\\\\n",
       " <dttm> & <dbl> & <dbl> & <dbl> & <dbl> & <dbl> & <dbl> & <fct> & <dttm> & <dbl> & <int> & <dbl> & <dbl> & <dbl> & <dbl> & <dbl> & <dbl> & <dbl> & <chr>\\\\\n",
       "\\hline\n",
       "\t 2021-07-25 18:00:00 & 149.28 & 35.17 & 3.192334 & -1.354570 &  0.0000000 &  0.00000000 & 0 & 2021-07-25 18:00:00 &  0 & 1 & 3 & -0.3961 & -0.0091 & 2.994291 & -1.359119 & -0.1320 & -0.0030 &  \\\\\n",
       "\t 2021-07-25 21:00:00 & 148.06 & 35.29 & 2.796248 & -1.363668 & -0.4281234 & -0.02797162 & 0 & 2021-07-25 18:00:00 &  3 & 1 & 3 & -0.3049 & -0.0539 & 2.643802 & -1.390610 & -0.1016 & -0.0180 &  \\\\\n",
       "\t 2021-07-26 00:00:00 & 147.10 & 35.27 & 2.491356 & -1.417552 & -0.7576730 & -0.19367054 & 0 & 2021-07-25 18:00:00 &  6 & 1 & 3 & -0.1591 & -0.1793 & 2.411782 & -1.507182 & -0.0530 & -0.0598 &  \\\\\n",
       "\t 2021-07-26 03:00:00 & 146.55 & 34.92 & 2.332208 & -1.596811 & -0.9296974 & -0.74485058 & 0 & 2021-07-25 18:00:00 &  9 & 1 & 3 & -0.1075 & -0.0590 & 2.278463 & -1.626312 & -0.0358 & -0.0197 &  \\\\\n",
       "\t 2021-07-26 06:00:00 & 146.20 & 34.82 & 2.224718 & -1.655813 & -1.0458810 & -0.92628914 & 0 & 2021-07-25 18:00:00 & 12 & 1 & 3 & -0.1449 &  0.0937 & 2.152244 & -1.608978 & -0.0483 &  0.0312 &  \\\\\n",
       "\\end{tabular}\n"
      ],
      "text/markdown": [
       "\n",
       "A data.table: 5 × 19\n",
       "\n",
       "| ForecastingTime &lt;dttm&gt; | lon &lt;dbl&gt; | lat &lt;dbl&gt; | X &lt;dbl&gt; | Y &lt;dbl&gt; | X1 &lt;dbl&gt; | Y1 &lt;dbl&gt; | Member &lt;fct&gt; | InitializationTime &lt;dttm&gt; | Horizon &lt;dbl&gt; | gr &lt;int&gt; | dT &lt;dbl&gt; | dX &lt;dbl&gt; | dY &lt;dbl&gt; | Xm &lt;dbl&gt; | Ym &lt;dbl&gt; | velocX &lt;dbl&gt; | velocY &lt;dbl&gt; | Cluster &lt;chr&gt; |\n",
       "|---|---|---|---|---|---|---|---|---|---|---|---|---|---|---|---|---|---|---|\n",
       "| 2021-07-25 18:00:00 | 149.28 | 35.17 | 3.192334 | -1.354570 |  0.0000000 |  0.00000000 | 0 | 2021-07-25 18:00:00 |  0 | 1 | 3 | -0.3961 | -0.0091 | 2.994291 | -1.359119 | -0.1320 | -0.0030 | <!----> |\n",
       "| 2021-07-25 21:00:00 | 148.06 | 35.29 | 2.796248 | -1.363668 | -0.4281234 | -0.02797162 | 0 | 2021-07-25 18:00:00 |  3 | 1 | 3 | -0.3049 | -0.0539 | 2.643802 | -1.390610 | -0.1016 | -0.0180 | <!----> |\n",
       "| 2021-07-26 00:00:00 | 147.10 | 35.27 | 2.491356 | -1.417552 | -0.7576730 | -0.19367054 | 0 | 2021-07-25 18:00:00 |  6 | 1 | 3 | -0.1591 | -0.1793 | 2.411782 | -1.507182 | -0.0530 | -0.0598 | <!----> |\n",
       "| 2021-07-26 03:00:00 | 146.55 | 34.92 | 2.332208 | -1.596811 | -0.9296974 | -0.74485058 | 0 | 2021-07-25 18:00:00 |  9 | 1 | 3 | -0.1075 | -0.0590 | 2.278463 | -1.626312 | -0.0358 | -0.0197 | <!----> |\n",
       "| 2021-07-26 06:00:00 | 146.20 | 34.82 | 2.224718 | -1.655813 | -1.0458810 | -0.92628914 | 0 | 2021-07-25 18:00:00 | 12 | 1 | 3 | -0.1449 |  0.0937 | 2.152244 | -1.608978 | -0.0483 |  0.0312 | <!----> |\n",
       "\n"
      ],
      "text/plain": [
       "  ForecastingTime     lon    lat   X        Y         X1         Y1          Member InitializationTime  Horizon gr dT dX      dY      Xm       Ym        velocX  velocY  Cluster\n",
       "1 2021-07-25 18:00:00 149.28 35.17 3.192334 -1.354570  0.0000000  0.00000000 0      2021-07-25 18:00:00  0      1  3  -0.3961 -0.0091 2.994291 -1.359119 -0.1320 -0.0030        \n",
       "2 2021-07-25 21:00:00 148.06 35.29 2.796248 -1.363668 -0.4281234 -0.02797162 0      2021-07-25 18:00:00  3      1  3  -0.3049 -0.0539 2.643802 -1.390610 -0.1016 -0.0180        \n",
       "3 2021-07-26 00:00:00 147.10 35.27 2.491356 -1.417552 -0.7576730 -0.19367054 0      2021-07-25 18:00:00  6      1  3  -0.1591 -0.1793 2.411782 -1.507182 -0.0530 -0.0598        \n",
       "4 2021-07-26 03:00:00 146.55 34.92 2.332208 -1.596811 -0.9296974 -0.74485058 0      2021-07-25 18:00:00  9      1  3  -0.1075 -0.0590 2.278463 -1.626312 -0.0358 -0.0197        \n",
       "5 2021-07-26 06:00:00 146.20 34.82 2.224718 -1.655813 -1.0458810 -0.92628914 0      2021-07-25 18:00:00 12      1  3  -0.1449  0.0937 2.152244 -1.608978 -0.0483  0.0312        "
      ]
     },
     "metadata": {},
     "output_type": "display_data"
    }
   ],
   "source": [
    "# Vizualization of the 5 first rows of \"Tracks\" data.table\n",
    "Tracks[1:5]"
   ]
  },
  {
   "cell_type": "markdown",
   "id": "693c43fa",
   "metadata": {},
   "source": [
    "## Creating the annotated data matrix (anndata)"
   ]
  },
  {
   "cell_type": "code",
   "execution_count": 7,
   "id": "eaa85acf",
   "metadata": {},
   "outputs": [
    {
     "name": "stdout",
     "output_type": "stream",
     "text": [
      "-2.176201 3.029079 \n"
     ]
    }
   ],
   "source": [
    "# Annotated data matrix (anndata)\n",
    "adata <- AnnData(\n",
    "  as.data.frame(Tracks[,.(Xm,Ym)]),\n",
    "  obs = data.frame(clusters = factor(Tracks$Cluster), row.names = rownames(Tracks)),\n",
    "  obsm = list(X_std = as.matrix(Tracks[,.(Xm,Ym)]), velocity_std = as.matrix(Tracks[,.(velocX,velocY)])),\n",
    "  layers = list(velocity = as.matrix(Tracks[,.(velocX,velocY)]))\n",
    ")\n",
    "# Range of midpoints\n",
    "cat(range(adata$obsm$X_std), \"\\n\")"
   ]
  },
  {
   "cell_type": "code",
   "execution_count": 8,
   "id": "885da476",
   "metadata": {},
   "outputs": [
    {
     "data": {
      "text/plain": [
       "AnnData object with n_obs × n_vars = 4368 × 2\n",
       "    obs: 'clusters'\n",
       "    obsm: 'X_std', 'velocity_std'\n",
       "    layers: 'velocity'"
      ]
     },
     "metadata": {},
     "output_type": "display_data"
    }
   ],
   "source": [
    "# Vizualization of anndata\n",
    "adata"
   ]
  },
  {
   "cell_type": "code",
   "execution_count": 9,
   "id": "792393e7",
   "metadata": {},
   "outputs": [],
   "source": [
    "# Write anndata on disk \n",
    "write_h5ad(adata, file = paste(\".\", paste(\"adata\", \"h5ad\", sep = \".\"), sep = \"/\"))"
   ]
  }
 ],
 "metadata": {
  "kernelspec": {
   "display_name": "R",
   "language": "R",
   "name": "ir"
  },
  "language_info": {
   "codemirror_mode": "r",
   "file_extension": ".r",
   "mimetype": "text/x-r-source",
   "name": "R",
   "pygments_lexer": "r",
   "version": "4.4.1"
  }
 },
 "nbformat": 4,
 "nbformat_minor": 5
}
