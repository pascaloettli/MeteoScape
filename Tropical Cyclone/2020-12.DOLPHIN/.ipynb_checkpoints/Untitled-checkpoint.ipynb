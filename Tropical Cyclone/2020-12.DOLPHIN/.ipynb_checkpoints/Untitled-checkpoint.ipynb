{
 "cells": [
  {
   "cell_type": "code",
   "execution_count": 1,
   "id": "09c8f96c",
   "metadata": {},
   "outputs": [
    {
     "name": "stderr",
     "output_type": "stream",
     "text": [
      "── \u001b[1mAttaching core tidyverse packages\u001b[22m ─────────────────────────────────────────────────────────────────────────────────────────────────────────────────────── tidyverse 2.0.0 ──\n",
      "\u001b[32m✔\u001b[39m \u001b[34mdplyr    \u001b[39m 1.1.4     \u001b[32m✔\u001b[39m \u001b[34mreadr    \u001b[39m 2.1.5\n",
      "\u001b[32m✔\u001b[39m \u001b[34mforcats  \u001b[39m 1.0.0     \u001b[32m✔\u001b[39m \u001b[34mstringr  \u001b[39m 1.5.1\n",
      "\u001b[32m✔\u001b[39m \u001b[34mggplot2  \u001b[39m 3.5.1     \u001b[32m✔\u001b[39m \u001b[34mtibble   \u001b[39m 3.2.1\n",
      "\u001b[32m✔\u001b[39m \u001b[34mlubridate\u001b[39m 1.9.3     \u001b[32m✔\u001b[39m \u001b[34mtidyr    \u001b[39m 1.3.1\n",
      "\u001b[32m✔\u001b[39m \u001b[34mpurrr    \u001b[39m 1.0.2     \n",
      "── \u001b[1mConflicts\u001b[22m ───────────────────────────────────────────────────────────────────────────────────────────────────────────────────────────────────────── tidyverse_conflicts() ──\n",
      "\u001b[31m✖\u001b[39m \u001b[34mdplyr\u001b[39m::\u001b[32mfilter()\u001b[39m  masks \u001b[34mstats\u001b[39m::filter()\n",
      "\u001b[31m✖\u001b[39m \u001b[34mdplyr\u001b[39m::\u001b[32mlag()\u001b[39m     masks \u001b[34mstats\u001b[39m::lag()\n",
      "\u001b[31m✖\u001b[39m \u001b[34mdplyr\u001b[39m::\u001b[32mmatches()\u001b[39m masks \u001b[34mtidyr\u001b[39m::matches(), \u001b[34msos\u001b[39m::matches()\n",
      "\u001b[36mℹ\u001b[39m Use the conflicted package (\u001b[3m\u001b[34m<http://conflicted.r-lib.org/>\u001b[39m\u001b[23m) to force all conflicts to become errors\n",
      "\n",
      "Attaching package: ‘metR’\n",
      "\n",
      "\n",
      "The following object is masked from ‘package:purrr’:\n",
      "\n",
      "    cross\n",
      "\n",
      "\n",
      "\n",
      "Attaching package: ‘data.table’\n",
      "\n",
      "\n",
      "The following objects are masked from ‘package:lubridate’:\n",
      "\n",
      "    hour, isoweek, mday, minute, month, quarter, second, wday, week, yday, year\n",
      "\n",
      "\n",
      "The following objects are masked from ‘package:dplyr’:\n",
      "\n",
      "    between, first, last\n",
      "\n",
      "\n",
      "The following object is masked from ‘package:purrr’:\n",
      "\n",
      "    transpose\n",
      "\n",
      "\n",
      "Linking to GEOS 3.12.1, GDAL 3.8.4, PROJ 9.3.1; sf_use_s2() is TRUE\n",
      "\n",
      "\n",
      "Attaching package: ‘anndata’\n",
      "\n",
      "\n",
      "The following object is masked from ‘package:readr’:\n",
      "\n",
      "    read_csv\n",
      "\n",
      "\n"
     ]
    }
   ],
   "source": [
    "libs <- c(\"tidyverse\", \"metR\", \"data.table\", \"sf\", \"anndata\")\n",
    "invisible(lapply(libs, library, character.only = TRUE, logical.return = FALSE, verbose = FALSE))\n",
    "Sys.setenv(TZ = \"UTC\")"
   ]
  },
  {
   "cell_type": "code",
   "execution_count": 2,
   "id": "3da48aa5",
   "metadata": {},
   "outputs": [],
   "source": [
    "# Set seed for Random Number Generation. Necessary for {jitter} to reproduce the same jittering\n",
    "set.seed(42)"
   ]
  },
  {
   "cell_type": "code",
   "execution_count": 3,
   "id": "5073ffe6",
   "metadata": {},
   "outputs": [],
   "source": [
    "# Set jitter amount of +/- 1 meter maximum\n",
    "jitter_amount <- 1"
   ]
  },
  {
   "cell_type": "code",
   "execution_count": 4,
   "id": "dad248d9",
   "metadata": {},
   "outputs": [],
   "source": [
    "# Tropical cyclone ID\n",
    "ID <- \"2020-12.DOLPHIN\"\n",
    "\n",
    "# Geodetic coordinate system for World\n",
    "lonlat <- \"EPSG:4326\"\n",
    "# Projected coordinate system for Japan \n",
    "eqdc <- \"EPSG:6690\"\n",
    "\n",
    "# Location of NetCDF data for TC\n",
    "# Data are available from https://doi.org/10.5281/zenodo.11064128\n",
    "basedir <- paste(\"../Data\", ID, sep = \"/\")\n",
    "lst <- list.dirs(basedir)\n",
    "lst <- lst[!(list.dirs(basedir) %in% basedir)]\n",
    "\n",
    "# Parent folder, one by ensemble member\n",
    "BN <- basename(lst)\n",
    "# EM = total number of ensemble members\n",
    "EM <- length(BN)\n",
    "# IT = total number of initialization times\n",
    "IT <- length(list.files(paste(basedir, BN[1], sep = \"/\")))\n",
    "# FT = total number of forecasting time by IT\n",
    "FT <- 14\n",
    "\n",
    "# List of all NetCDF files:\n",
    "lst <- list.files(basedir, recursive = TRUE, full.names = TRUE)\n",
    "lst <- split(lst, rep(seq_len(IT), EM))"
   ]
  },
  {
   "cell_type": "code",
   "execution_count": 5,
   "id": "0a6c813b",
   "metadata": {},
   "outputs": [],
   "source": [
    "# Initialization of final data.table\n",
    "Tracks <- NULL\n",
    "for(i in 1:IT){  # Loop through initialization times IT\n",
    "  for(m in 1:EM){  # Loop through ensemble members EM\n",
    "    f0 <- lst[[i]][m]  # Files by IT and EM\n",
    "    InitTime <- as.POSIXct(strptime(sub(\"([0-9]+).*$\", \"\\\\1\",  basename(f0)), \"%Y%m%d%H%M%S\")) # Write initializatin time\n",
    "    tmp <- ReadNetCDF(f0)  # Read NetCDF file into temporary data.table\n",
    "    setnames(tmp, \"time\", \"ForecastingTime\")  # Change column \"time\" name for \"ForecastingTime\"\n",
    "    tmp[ , Member := factor(m-1) ]  # Factorization of ensemble member name\n",
    "    tmp[ , InitializationTime := InitTime ]  # Add IT column to the data.table\n",
    "    Tracks <- rbind(Tracks, tmp)  # Concatenate with final data.table\n",
    "    rm(tmp); gc()  # Remove temporary data.table and free memory\n",
    "  }\n",
    "}\n",
    "# Forecast horizon HZ (1 = analysis, 14 = +39 hrs)\n",
    "Tracks[ , Horizon := as.numeric((ForecastingTime - InitializationTime)/3600)]\n",
    "# Needed modification of the TC center position (+/- 1m maximum).\n",
    "Tracks[ , `:=`(X = jitter(X, amount = jitter_amount),  Y = jitter(Y, amount = jitter_amount)) ]\n",
    "# Grouping variable based on the combination of IT and EM\n",
    "Tracks[ , gr := .GRP, .(InitializationTime, Member)]\n",
    "# Normalization by global mean and sd in both X and Y directions\n",
    "Tracks[ , `:=`(X = scale(X), Y = scale(Y)) ]\n",
    "# Time delta\n",
    "Tracks[ , dT := (as.numeric(shift(ForecastingTime, -1)) - as.numeric(ForecastingTime))/(60*60), .(gr)]\n",
    "# Spatial delta\n",
    "Tracks[ , dX := round(shift(X, -1) - X, 4), .(gr)]\n",
    "Tracks[ , dY := round(shift(Y, -1) - Y, 4), .(gr)]\n",
    "# Midpoints between 2 consecutive positions\n",
    "Tracks[ , `:=`(Xm = (shift(X, -1) + X)/2, Ym = (shift(Y, -1) + Y)/2), .(gr) ]\n",
    "# Velocities\n",
    "Tracks[ , velocX := round(dX/dT, 4)/1, .(gr)]\n",
    "Tracks[ , velocY := round(dY/dT, 4)/1, .(gr)]\n",
    "# Removing rows with no position/velocity\n",
    "Tracks <- Tracks[ !is.na(dT) ]\n",
    "# Set order by IT, then EM, then HZ\n",
    "setorder(Tracks, InitializationTime, Member, Horizon)"
   ]
  },
  {
   "cell_type": "code",
   "execution_count": 6,
   "id": "d298cf83",
   "metadata": {
    "scrolled": true
   },
   "outputs": [
    {
     "data": {
      "text/html": [
       "<table class=\"dataframe\">\n",
       "<caption>A data.table: 5 × 18</caption>\n",
       "<thead>\n",
       "\t<tr><th scope=col>ForecastingTime</th><th scope=col>lon</th><th scope=col>lat</th><th scope=col>X</th><th scope=col>Y</th><th scope=col>X1</th><th scope=col>Y1</th><th scope=col>Member</th><th scope=col>InitializationTime</th><th scope=col>Horizon</th><th scope=col>gr</th><th scope=col>dT</th><th scope=col>dX</th><th scope=col>dY</th><th scope=col>Xm</th><th scope=col>Ym</th><th scope=col>velocX</th><th scope=col>velocY</th></tr>\n",
       "\t<tr><th scope=col>&lt;dttm&gt;</th><th scope=col>&lt;dbl&gt;</th><th scope=col>&lt;dbl&gt;</th><th scope=col>&lt;dbl&gt;</th><th scope=col>&lt;dbl&gt;</th><th scope=col>&lt;dbl&gt;</th><th scope=col>&lt;dbl&gt;</th><th scope=col>&lt;fct&gt;</th><th scope=col>&lt;dttm&gt;</th><th scope=col>&lt;dbl&gt;</th><th scope=col>&lt;int&gt;</th><th scope=col>&lt;dbl&gt;</th><th scope=col>&lt;dbl&gt;</th><th scope=col>&lt;dbl&gt;</th><th scope=col>&lt;dbl&gt;</th><th scope=col>&lt;dbl&gt;</th><th scope=col>&lt;dbl&gt;</th><th scope=col>&lt;dbl&gt;</th></tr>\n",
       "</thead>\n",
       "<tbody>\n",
       "\t<tr><td>2020-09-20 12:00:00</td><td>134.02</td><td>24.04</td><td>-1.338146</td><td>-1.672547</td><td> 0.0000000</td><td>0.0000000</td><td>0</td><td>2020-09-20 12:00:00</td><td> 0</td><td>1</td><td>3</td><td>-0.0659</td><td> 0.1050</td><td>-1.371096</td><td>-1.620070</td><td>-0.0220</td><td> 0.0350</td></tr>\n",
       "\t<tr><td>2020-09-20 15:00:00</td><td>133.75</td><td>24.62</td><td>-1.404046</td><td>-1.567592</td><td>-0.3084516</td><td>0.5154020</td><td>0</td><td>2020-09-20 12:00:00</td><td> 3</td><td>1</td><td>3</td><td>-0.0717</td><td> 0.0185</td><td>-1.439886</td><td>-1.558331</td><td>-0.0239</td><td> 0.0062</td></tr>\n",
       "\t<tr><td>2020-09-20 18:00:00</td><td>133.46</td><td>24.72</td><td>-1.475725</td><td>-1.549071</td><td>-0.6439277</td><td>0.6063572</td><td>0</td><td>2020-09-20 12:00:00</td><td> 6</td><td>1</td><td>3</td><td> 0.0247</td><td>-0.0092</td><td>-1.463394</td><td>-1.553669</td><td> 0.0082</td><td>-0.0031</td></tr>\n",
       "\t<tr><td>2020-09-20 21:00:00</td><td>133.56</td><td>24.67</td><td>-1.451063</td><td>-1.558267</td><td>-0.5285115</td><td>0.5611917</td><td>0</td><td>2020-09-20 12:00:00</td><td> 9</td><td>1</td><td>3</td><td> 0.0375</td><td> 0.0232</td><td>-1.432289</td><td>-1.546666</td><td> 0.0125</td><td> 0.0077</td></tr>\n",
       "\t<tr><td>2020-09-21 00:00:00</td><td>133.71</td><td>24.80</td><td>-1.413516</td><td>-1.535066</td><td>-0.3527661</td><td>0.6751223</td><td>0</td><td>2020-09-20 12:00:00</td><td>12</td><td>1</td><td>3</td><td> 0.0255</td><td> 0.0576</td><td>-1.400743</td><td>-1.506285</td><td> 0.0085</td><td> 0.0192</td></tr>\n",
       "</tbody>\n",
       "</table>\n"
      ],
      "text/latex": [
       "A data.table: 5 × 18\n",
       "\\begin{tabular}{llllllllllllllllll}\n",
       " ForecastingTime & lon & lat & X & Y & X1 & Y1 & Member & InitializationTime & Horizon & gr & dT & dX & dY & Xm & Ym & velocX & velocY\\\\\n",
       " <dttm> & <dbl> & <dbl> & <dbl> & <dbl> & <dbl> & <dbl> & <fct> & <dttm> & <dbl> & <int> & <dbl> & <dbl> & <dbl> & <dbl> & <dbl> & <dbl> & <dbl>\\\\\n",
       "\\hline\n",
       "\t 2020-09-20 12:00:00 & 134.02 & 24.04 & -1.338146 & -1.672547 &  0.0000000 & 0.0000000 & 0 & 2020-09-20 12:00:00 &  0 & 1 & 3 & -0.0659 &  0.1050 & -1.371096 & -1.620070 & -0.0220 &  0.0350\\\\\n",
       "\t 2020-09-20 15:00:00 & 133.75 & 24.62 & -1.404046 & -1.567592 & -0.3084516 & 0.5154020 & 0 & 2020-09-20 12:00:00 &  3 & 1 & 3 & -0.0717 &  0.0185 & -1.439886 & -1.558331 & -0.0239 &  0.0062\\\\\n",
       "\t 2020-09-20 18:00:00 & 133.46 & 24.72 & -1.475725 & -1.549071 & -0.6439277 & 0.6063572 & 0 & 2020-09-20 12:00:00 &  6 & 1 & 3 &  0.0247 & -0.0092 & -1.463394 & -1.553669 &  0.0082 & -0.0031\\\\\n",
       "\t 2020-09-20 21:00:00 & 133.56 & 24.67 & -1.451063 & -1.558267 & -0.5285115 & 0.5611917 & 0 & 2020-09-20 12:00:00 &  9 & 1 & 3 &  0.0375 &  0.0232 & -1.432289 & -1.546666 &  0.0125 &  0.0077\\\\\n",
       "\t 2020-09-21 00:00:00 & 133.71 & 24.80 & -1.413516 & -1.535066 & -0.3527661 & 0.6751223 & 0 & 2020-09-20 12:00:00 & 12 & 1 & 3 &  0.0255 &  0.0576 & -1.400743 & -1.506285 &  0.0085 &  0.0192\\\\\n",
       "\\end{tabular}\n"
      ],
      "text/markdown": [
       "\n",
       "A data.table: 5 × 18\n",
       "\n",
       "| ForecastingTime &lt;dttm&gt; | lon &lt;dbl&gt; | lat &lt;dbl&gt; | X &lt;dbl&gt; | Y &lt;dbl&gt; | X1 &lt;dbl&gt; | Y1 &lt;dbl&gt; | Member &lt;fct&gt; | InitializationTime &lt;dttm&gt; | Horizon &lt;dbl&gt; | gr &lt;int&gt; | dT &lt;dbl&gt; | dX &lt;dbl&gt; | dY &lt;dbl&gt; | Xm &lt;dbl&gt; | Ym &lt;dbl&gt; | velocX &lt;dbl&gt; | velocY &lt;dbl&gt; |\n",
       "|---|---|---|---|---|---|---|---|---|---|---|---|---|---|---|---|---|---|\n",
       "| 2020-09-20 12:00:00 | 134.02 | 24.04 | -1.338146 | -1.672547 |  0.0000000 | 0.0000000 | 0 | 2020-09-20 12:00:00 |  0 | 1 | 3 | -0.0659 |  0.1050 | -1.371096 | -1.620070 | -0.0220 |  0.0350 |\n",
       "| 2020-09-20 15:00:00 | 133.75 | 24.62 | -1.404046 | -1.567592 | -0.3084516 | 0.5154020 | 0 | 2020-09-20 12:00:00 |  3 | 1 | 3 | -0.0717 |  0.0185 | -1.439886 | -1.558331 | -0.0239 |  0.0062 |\n",
       "| 2020-09-20 18:00:00 | 133.46 | 24.72 | -1.475725 | -1.549071 | -0.6439277 | 0.6063572 | 0 | 2020-09-20 12:00:00 |  6 | 1 | 3 |  0.0247 | -0.0092 | -1.463394 | -1.553669 |  0.0082 | -0.0031 |\n",
       "| 2020-09-20 21:00:00 | 133.56 | 24.67 | -1.451063 | -1.558267 | -0.5285115 | 0.5611917 | 0 | 2020-09-20 12:00:00 |  9 | 1 | 3 |  0.0375 |  0.0232 | -1.432289 | -1.546666 |  0.0125 |  0.0077 |\n",
       "| 2020-09-21 00:00:00 | 133.71 | 24.80 | -1.413516 | -1.535066 | -0.3527661 | 0.6751223 | 0 | 2020-09-20 12:00:00 | 12 | 1 | 3 |  0.0255 |  0.0576 | -1.400743 | -1.506285 |  0.0085 |  0.0192 |\n",
       "\n"
      ],
      "text/plain": [
       "  ForecastingTime     lon    lat   X         Y         X1         Y1        Member InitializationTime  Horizon gr dT dX      dY      Xm        Ym        velocX  velocY \n",
       "1 2020-09-20 12:00:00 134.02 24.04 -1.338146 -1.672547  0.0000000 0.0000000 0      2020-09-20 12:00:00  0      1  3  -0.0659  0.1050 -1.371096 -1.620070 -0.0220  0.0350\n",
       "2 2020-09-20 15:00:00 133.75 24.62 -1.404046 -1.567592 -0.3084516 0.5154020 0      2020-09-20 12:00:00  3      1  3  -0.0717  0.0185 -1.439886 -1.558331 -0.0239  0.0062\n",
       "3 2020-09-20 18:00:00 133.46 24.72 -1.475725 -1.549071 -0.6439277 0.6063572 0      2020-09-20 12:00:00  6      1  3   0.0247 -0.0092 -1.463394 -1.553669  0.0082 -0.0031\n",
       "4 2020-09-20 21:00:00 133.56 24.67 -1.451063 -1.558267 -0.5285115 0.5611917 0      2020-09-20 12:00:00  9      1  3   0.0375  0.0232 -1.432289 -1.546666  0.0125  0.0077\n",
       "5 2020-09-21 00:00:00 133.71 24.80 -1.413516 -1.535066 -0.3527661 0.6751223 0      2020-09-20 12:00:00 12      1  3   0.0255  0.0576 -1.400743 -1.506285  0.0085  0.0192"
      ]
     },
     "metadata": {},
     "output_type": "display_data"
    }
   ],
   "source": [
    "# Vizualization of the 5 first rows of \"Tracks\" data.table\n",
    "Tracks[1:5]"
   ]
  },
  {
   "cell_type": "code",
   "execution_count": 7,
   "id": "9cc358e9",
   "metadata": {},
   "outputs": [],
   "source": [
    "# Definition of the clusters\n",
    "\n",
    "# Cluster \"Northward\"\n",
    "xs <- list(x = c(1.38018508218361, 1.64516648167687, 1.31045313494854, \n",
    "                 0.668919220385898), y = c(2.30715915131801, 1.97244580458967, \n",
    "                                           1.42853661615613, 1.72141079454342))$x\n",
    "ys <- list(x = c(1.38018508218361, 1.64516648167687, 1.31045313494854, \n",
    "                 0.668919220385898), y = c(2.30715915131801, 1.97244580458967, \n",
    "                                           1.42853661615613, 1.72141079454342))$y\n",
    "\n",
    "# Spatial polygon (Projected coordinate system)\n",
    "Northward <- tibble(x = xs, y = ys, ID = 1) %>% \n",
    "  st_as_sf(coords = c(\"x\",\"y\"), crs = eqdc) %>% \n",
    "  dplyr::group_by(ID) %>% \n",
    "  dplyr::summarise() %>%\n",
    "  st_cast(\"POLYGON\") %>% \n",
    "  st_convex_hull()\n",
    "rm(xs, ys)\n",
    "\n",
    "\n",
    "# Cluster \"Eastward\"\n",
    "xs <- list(x = c(1.12915007213736, 2.03566538619326, 2.23091483845146, \n",
    "                 1.40807786107763), y = c(0.787002701593491, 1.19144799555689, \n",
    "                                          0.661485196570366, 0.243093513159949))$x\n",
    "ys <- list(x = c(1.12915007213736, 2.03566538619326, 2.23091483845146, \n",
    "                 1.40807786107763), y = c(0.787002701593491, 1.19144799555689, \n",
    "                                          0.661485196570366, 0.243093513159949))$y\n",
    "\n",
    "# Spatial polygon (Projected coordinate system)\n",
    "Eastward <- tibble(x = xs, y = ys, ID = 1) %>% \n",
    "  st_as_sf(coords = c(\"x\",\"y\"), crs = eqdc) %>% \n",
    "  dplyr::group_by(ID) %>% \n",
    "  dplyr::summarise() %>%\n",
    "  st_cast(\"POLYGON\") %>% \n",
    "  st_convex_hull()\n",
    "rm(xs, ys)\n",
    "\n",
    "\n",
    "# Cluster \"Start\"\n",
    "xs <- list(x = c(-1.35324066714766, -1.57836675332549, -1.42175730207135, \n",
    "                 -1.06938603674953, -1.10853839956307), y = c(-1.73032284600434, \n",
    "                                                              -1.68138239248742, -1.40731585279267, -1.35837539927575, -1.60307766686035\n",
    "                 ))$x\n",
    "ys <- list(x = c(-1.35324066714766, -1.57836675332549, -1.42175730207135, \n",
    "                 -1.06938603674953, -1.10853839956307), y = c(-1.73032284600434, \n",
    "                                                              -1.68138239248742, -1.40731585279267, -1.35837539927575, -1.60307766686035\n",
    "                 ))$y\n",
    "\n",
    "# Spatial polygon (Projected coordinate system)\n",
    "Start <- tibble(x = xs, y = ys, ID = 1) %>% \n",
    "  st_as_sf(coords = c(\"x\",\"y\"), crs = eqdc) %>% \n",
    "  dplyr::group_by(ID) %>% \n",
    "  dplyr::summarise() %>%\n",
    "  st_cast(\"POLYGON\") %>% \n",
    "  st_convex_hull()\n",
    "rm(xs, ys)\n",
    "\n",
    "\n",
    "# Extracting TC centers and project into new coordinate system\n",
    "Tracks[ , .(X, Y)] %>%\n",
    "  st_as_sf(coords = c(\"X\",\"Y\"), crs = eqdc) -> Y\n",
    "\n",
    "# Initialiaze Cluster column (TC centers not belonging to any cluster is blank)\n",
    "Tracks[ , Cluster := \" \"]\n",
    "\n",
    "# Capturing row index of TC centers inside polygon \"Start\"\n",
    "idx <- st_contains(Start, Y)[[1]]\n",
    "# Write cluster name\n",
    "Tracks[idx, Cluster := \"Start\"]\n",
    "rm(idx)\n",
    "\n",
    "# Capturing row index of TC centers inside polygon \"Northward\"\n",
    "idx <- st_contains(Northward, Y)[[1]]\n",
    "# Write cluster name\n",
    "Tracks[idx, Cluster := \"Northward\"]\n",
    "rm(idx)\n",
    "\n",
    "# Capturing row index of TC centers inside polygon \"Eastward\"\n",
    "idx <- st_contains(Eastward, Y)[[1]]\n",
    "# Write cluster name\n",
    "Tracks[idx, Cluster := \"Eastward\"]\n",
    "rm(idx)"
   ]
  },
  {
   "cell_type": "code",
   "execution_count": 8,
   "id": "d99dd2aa",
   "metadata": {},
   "outputs": [
    {
     "data": {
      "text/html": [
       "<table class=\"dataframe\">\n",
       "<caption>A data.table: 5 × 19</caption>\n",
       "<thead>\n",
       "\t<tr><th scope=col>ForecastingTime</th><th scope=col>lon</th><th scope=col>lat</th><th scope=col>X</th><th scope=col>Y</th><th scope=col>X1</th><th scope=col>Y1</th><th scope=col>Member</th><th scope=col>InitializationTime</th><th scope=col>Horizon</th><th scope=col>gr</th><th scope=col>dT</th><th scope=col>dX</th><th scope=col>dY</th><th scope=col>Xm</th><th scope=col>Ym</th><th scope=col>velocX</th><th scope=col>velocY</th><th scope=col>Cluster</th></tr>\n",
       "\t<tr><th scope=col>&lt;dttm&gt;</th><th scope=col>&lt;dbl&gt;</th><th scope=col>&lt;dbl&gt;</th><th scope=col>&lt;dbl&gt;</th><th scope=col>&lt;dbl&gt;</th><th scope=col>&lt;dbl&gt;</th><th scope=col>&lt;dbl&gt;</th><th scope=col>&lt;fct&gt;</th><th scope=col>&lt;dttm&gt;</th><th scope=col>&lt;dbl&gt;</th><th scope=col>&lt;int&gt;</th><th scope=col>&lt;dbl&gt;</th><th scope=col>&lt;dbl&gt;</th><th scope=col>&lt;dbl&gt;</th><th scope=col>&lt;dbl&gt;</th><th scope=col>&lt;dbl&gt;</th><th scope=col>&lt;dbl&gt;</th><th scope=col>&lt;dbl&gt;</th><th scope=col>&lt;chr&gt;</th></tr>\n",
       "</thead>\n",
       "<tbody>\n",
       "\t<tr><td>2020-09-20 12:00:00</td><td>134.02</td><td>24.04</td><td>-1.338146</td><td>-1.672547</td><td> 0.0000000</td><td>0.0000000</td><td>0</td><td>2020-09-20 12:00:00</td><td> 0</td><td>1</td><td>3</td><td>-0.0659</td><td> 0.1050</td><td>-1.371096</td><td>-1.620070</td><td>-0.0220</td><td> 0.0350</td><td>Start</td></tr>\n",
       "\t<tr><td>2020-09-20 15:00:00</td><td>133.75</td><td>24.62</td><td>-1.404046</td><td>-1.567592</td><td>-0.3084516</td><td>0.5154020</td><td>0</td><td>2020-09-20 12:00:00</td><td> 3</td><td>1</td><td>3</td><td>-0.0717</td><td> 0.0185</td><td>-1.439886</td><td>-1.558331</td><td>-0.0239</td><td> 0.0062</td><td>Start</td></tr>\n",
       "\t<tr><td>2020-09-20 18:00:00</td><td>133.46</td><td>24.72</td><td>-1.475725</td><td>-1.549071</td><td>-0.6439277</td><td>0.6063572</td><td>0</td><td>2020-09-20 12:00:00</td><td> 6</td><td>1</td><td>3</td><td> 0.0247</td><td>-0.0092</td><td>-1.463394</td><td>-1.553669</td><td> 0.0082</td><td>-0.0031</td><td>Start</td></tr>\n",
       "\t<tr><td>2020-09-20 21:00:00</td><td>133.56</td><td>24.67</td><td>-1.451063</td><td>-1.558267</td><td>-0.5285115</td><td>0.5611917</td><td>0</td><td>2020-09-20 12:00:00</td><td> 9</td><td>1</td><td>3</td><td> 0.0375</td><td> 0.0232</td><td>-1.432289</td><td>-1.546666</td><td> 0.0125</td><td> 0.0077</td><td>Start</td></tr>\n",
       "\t<tr><td>2020-09-21 00:00:00</td><td>133.71</td><td>24.80</td><td>-1.413516</td><td>-1.535066</td><td>-0.3527661</td><td>0.6751223</td><td>0</td><td>2020-09-20 12:00:00</td><td>12</td><td>1</td><td>3</td><td> 0.0255</td><td> 0.0576</td><td>-1.400743</td><td>-1.506285</td><td> 0.0085</td><td> 0.0192</td><td>Start</td></tr>\n",
       "</tbody>\n",
       "</table>\n"
      ],
      "text/latex": [
       "A data.table: 5 × 19\n",
       "\\begin{tabular}{lllllllllllllllllll}\n",
       " ForecastingTime & lon & lat & X & Y & X1 & Y1 & Member & InitializationTime & Horizon & gr & dT & dX & dY & Xm & Ym & velocX & velocY & Cluster\\\\\n",
       " <dttm> & <dbl> & <dbl> & <dbl> & <dbl> & <dbl> & <dbl> & <fct> & <dttm> & <dbl> & <int> & <dbl> & <dbl> & <dbl> & <dbl> & <dbl> & <dbl> & <dbl> & <chr>\\\\\n",
       "\\hline\n",
       "\t 2020-09-20 12:00:00 & 134.02 & 24.04 & -1.338146 & -1.672547 &  0.0000000 & 0.0000000 & 0 & 2020-09-20 12:00:00 &  0 & 1 & 3 & -0.0659 &  0.1050 & -1.371096 & -1.620070 & -0.0220 &  0.0350 & Start\\\\\n",
       "\t 2020-09-20 15:00:00 & 133.75 & 24.62 & -1.404046 & -1.567592 & -0.3084516 & 0.5154020 & 0 & 2020-09-20 12:00:00 &  3 & 1 & 3 & -0.0717 &  0.0185 & -1.439886 & -1.558331 & -0.0239 &  0.0062 & Start\\\\\n",
       "\t 2020-09-20 18:00:00 & 133.46 & 24.72 & -1.475725 & -1.549071 & -0.6439277 & 0.6063572 & 0 & 2020-09-20 12:00:00 &  6 & 1 & 3 &  0.0247 & -0.0092 & -1.463394 & -1.553669 &  0.0082 & -0.0031 & Start\\\\\n",
       "\t 2020-09-20 21:00:00 & 133.56 & 24.67 & -1.451063 & -1.558267 & -0.5285115 & 0.5611917 & 0 & 2020-09-20 12:00:00 &  9 & 1 & 3 &  0.0375 &  0.0232 & -1.432289 & -1.546666 &  0.0125 &  0.0077 & Start\\\\\n",
       "\t 2020-09-21 00:00:00 & 133.71 & 24.80 & -1.413516 & -1.535066 & -0.3527661 & 0.6751223 & 0 & 2020-09-20 12:00:00 & 12 & 1 & 3 &  0.0255 &  0.0576 & -1.400743 & -1.506285 &  0.0085 &  0.0192 & Start\\\\\n",
       "\\end{tabular}\n"
      ],
      "text/markdown": [
       "\n",
       "A data.table: 5 × 19\n",
       "\n",
       "| ForecastingTime &lt;dttm&gt; | lon &lt;dbl&gt; | lat &lt;dbl&gt; | X &lt;dbl&gt; | Y &lt;dbl&gt; | X1 &lt;dbl&gt; | Y1 &lt;dbl&gt; | Member &lt;fct&gt; | InitializationTime &lt;dttm&gt; | Horizon &lt;dbl&gt; | gr &lt;int&gt; | dT &lt;dbl&gt; | dX &lt;dbl&gt; | dY &lt;dbl&gt; | Xm &lt;dbl&gt; | Ym &lt;dbl&gt; | velocX &lt;dbl&gt; | velocY &lt;dbl&gt; | Cluster &lt;chr&gt; |\n",
       "|---|---|---|---|---|---|---|---|---|---|---|---|---|---|---|---|---|---|---|\n",
       "| 2020-09-20 12:00:00 | 134.02 | 24.04 | -1.338146 | -1.672547 |  0.0000000 | 0.0000000 | 0 | 2020-09-20 12:00:00 |  0 | 1 | 3 | -0.0659 |  0.1050 | -1.371096 | -1.620070 | -0.0220 |  0.0350 | Start |\n",
       "| 2020-09-20 15:00:00 | 133.75 | 24.62 | -1.404046 | -1.567592 | -0.3084516 | 0.5154020 | 0 | 2020-09-20 12:00:00 |  3 | 1 | 3 | -0.0717 |  0.0185 | -1.439886 | -1.558331 | -0.0239 |  0.0062 | Start |\n",
       "| 2020-09-20 18:00:00 | 133.46 | 24.72 | -1.475725 | -1.549071 | -0.6439277 | 0.6063572 | 0 | 2020-09-20 12:00:00 |  6 | 1 | 3 |  0.0247 | -0.0092 | -1.463394 | -1.553669 |  0.0082 | -0.0031 | Start |\n",
       "| 2020-09-20 21:00:00 | 133.56 | 24.67 | -1.451063 | -1.558267 | -0.5285115 | 0.5611917 | 0 | 2020-09-20 12:00:00 |  9 | 1 | 3 |  0.0375 |  0.0232 | -1.432289 | -1.546666 |  0.0125 |  0.0077 | Start |\n",
       "| 2020-09-21 00:00:00 | 133.71 | 24.80 | -1.413516 | -1.535066 | -0.3527661 | 0.6751223 | 0 | 2020-09-20 12:00:00 | 12 | 1 | 3 |  0.0255 |  0.0576 | -1.400743 | -1.506285 |  0.0085 |  0.0192 | Start |\n",
       "\n"
      ],
      "text/plain": [
       "  ForecastingTime     lon    lat   X         Y         X1         Y1        Member InitializationTime  Horizon gr dT dX      dY      Xm        Ym        velocX  velocY  Cluster\n",
       "1 2020-09-20 12:00:00 134.02 24.04 -1.338146 -1.672547  0.0000000 0.0000000 0      2020-09-20 12:00:00  0      1  3  -0.0659  0.1050 -1.371096 -1.620070 -0.0220  0.0350 Start  \n",
       "2 2020-09-20 15:00:00 133.75 24.62 -1.404046 -1.567592 -0.3084516 0.5154020 0      2020-09-20 12:00:00  3      1  3  -0.0717  0.0185 -1.439886 -1.558331 -0.0239  0.0062 Start  \n",
       "3 2020-09-20 18:00:00 133.46 24.72 -1.475725 -1.549071 -0.6439277 0.6063572 0      2020-09-20 12:00:00  6      1  3   0.0247 -0.0092 -1.463394 -1.553669  0.0082 -0.0031 Start  \n",
       "4 2020-09-20 21:00:00 133.56 24.67 -1.451063 -1.558267 -0.5285115 0.5611917 0      2020-09-20 12:00:00  9      1  3   0.0375  0.0232 -1.432289 -1.546666  0.0125  0.0077 Start  \n",
       "5 2020-09-21 00:00:00 133.71 24.80 -1.413516 -1.535066 -0.3527661 0.6751223 0      2020-09-20 12:00:00 12      1  3   0.0255  0.0576 -1.400743 -1.506285  0.0085  0.0192 Start  "
      ]
     },
     "metadata": {},
     "output_type": "display_data"
    }
   ],
   "source": [
    "# Vizualization of the 5 first rows of \"Tracks\" data.table\n",
    "Tracks[1:5]"
   ]
  },
  {
   "cell_type": "code",
   "execution_count": 9,
   "id": "eaa85acf",
   "metadata": {},
   "outputs": [
    {
     "name": "stdout",
     "output_type": "stream",
     "text": [
      "-2.120255 2.4553 \n"
     ]
    }
   ],
   "source": [
    "# Annotated data matrix (anndata)\n",
    "adata <- AnnData(\n",
    "  as.data.frame(Tracks[,.(Xm,Ym)]),\n",
    "  obs = data.frame(clusters = factor(Tracks$Cluster), row.names = rownames(Tracks)),\n",
    "  obsm = list(X_std = as.matrix(Tracks[,.(Xm,Ym)]), velocity_std = as.matrix(Tracks[,.(velocX,velocY)])),\n",
    "  layers = list(velocity = as.matrix(Tracks[,.(velocX,velocY)]))\n",
    ")\n",
    "# Range of midpoints\n",
    "cat(range(adata$obsm$X_std), \"\\n\")"
   ]
  },
  {
   "cell_type": "code",
   "execution_count": 10,
   "id": "885da476",
   "metadata": {},
   "outputs": [
    {
     "data": {
      "text/plain": [
       "AnnData object with n_obs × n_vars = 6006 × 2\n",
       "    obs: 'clusters'\n",
       "    obsm: 'X_std', 'velocity_std'\n",
       "    layers: 'velocity'"
      ]
     },
     "metadata": {},
     "output_type": "display_data"
    }
   ],
   "source": [
    "# Vizualization of anndata\n",
    "adata"
   ]
  },
  {
   "cell_type": "code",
   "execution_count": 11,
   "id": "792393e7",
   "metadata": {},
   "outputs": [],
   "source": [
    "# Write anndata on disk \n",
    "write_h5ad(adata, file = paste(\".\", paste(\"adata\", \"h5ad\", sep = \".\"), sep = \"/\"))"
   ]
  }
 ],
 "metadata": {
  "kernelspec": {
   "display_name": "R",
   "language": "R",
   "name": "ir"
  },
  "language_info": {
   "codemirror_mode": "r",
   "file_extension": ".r",
   "mimetype": "text/x-r-source",
   "name": "R",
   "pygments_lexer": "r",
   "version": "4.4.1"
  }
 },
 "nbformat": 4,
 "nbformat_minor": 5
}
