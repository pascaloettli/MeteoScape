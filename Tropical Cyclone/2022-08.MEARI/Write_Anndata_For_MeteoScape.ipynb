{
 "cells": [
  {
   "cell_type": "markdown",
   "id": "38c17e4f",
   "metadata": {},
   "source": [
    "# Input data for MeteoScape, TC Nepartak"
   ]
  },
  {
   "cell_type": "markdown",
   "id": "4f2c2da5",
   "metadata": {},
   "source": [
    "## Environment"
   ]
  },
  {
   "cell_type": "code",
   "execution_count": 1,
   "id": "09c8f96c",
   "metadata": {},
   "outputs": [],
   "source": [
    "#Libraries\n",
    "libs <- c(\"tidyverse\", \"metR\", \"data.table\", \"sf\", \"anndata\")\n",
    "invisible(suppressPackageStartupMessages(lapply(libs, library, character.only = TRUE)))\n",
    "Sys.setenv(TZ = \"UTC\")\n",
    "\n",
    "# Set seed for Random Number Generation. Necessary for {jitter} to reproduce the same jittering\n",
    "set.seed(42)\n",
    "\n",
    "# Set jitter amount of +/- 1 meter maximum\n",
    "jitter_amount <- 1"
   ]
  },
  {
   "cell_type": "markdown",
   "id": "4435f8b7",
   "metadata": {},
   "source": [
    "## Miscellaneous variables"
   ]
  },
  {
   "cell_type": "code",
   "execution_count": 2,
   "id": "dad248d9",
   "metadata": {},
   "outputs": [],
   "source": [
    "# Tropical cyclone ID\n",
    "ID <- \"2022-08.MEARI\"\n",
    "\n",
    "# Geodetic coordinate system for World\n",
    "lonlat <- \"EPSG:4326\"\n",
    "# Projected coordinate system for Japan \n",
    "eqdc <- \"EPSG:6690\"\n",
    "\n",
    "# Location of NetCDF data for TC\n",
    "# Data are available from https://doi.org/10.5281/zenodo.11064128\n",
    "basedir <- paste(\"../Data\", ID, sep = \"/\")\n",
    "lst <- list.dirs(basedir)\n",
    "lst <- lst[!(list.dirs(basedir) %in% basedir)]\n",
    "\n",
    "# Parent folder, one by ensemble member\n",
    "BN <- basename(lst)\n",
    "# EM = total number of ensemble members\n",
    "EM <- length(BN)\n",
    "# IT = total number of initialization times\n",
    "IT <- length(list.files(paste(basedir, BN[1], sep = \"/\")))\n",
    "# FT = total number of forecasting time by IT\n",
    "FT <- 14\n",
    "\n",
    "# List of all NetCDF files:\n",
    "lst <- list.files(basedir, recursive = TRUE, full.names = TRUE)\n",
    "lst <- split(lst, rep(seq_len(IT), EM))"
   ]
  },
  {
   "cell_type": "markdown",
   "id": "950309f4",
   "metadata": {},
   "source": [
    "## Creating the data.table from NetCDF files"
   ]
  },
  {
   "cell_type": "code",
   "execution_count": 3,
   "id": "0a6c813b",
   "metadata": {},
   "outputs": [],
   "source": [
    "# Initialization of final data.table\n",
    "Tracks <- NULL\n",
    "for(i in 1:IT){  # Loop through initialization times IT\n",
    "  for(m in 1:EM){  # Loop through ensemble members EM\n",
    "    f0 <- lst[[i]][m]  # Files by IT and EM\n",
    "    InitTime <- as.POSIXct(strptime(sub(\"([0-9]+).*$\", \"\\\\1\",  basename(f0)), \"%Y%m%d%H%M%S\")) # Write initializatin time\n",
    "    tmp <- ReadNetCDF(f0)  # Read NetCDF file into temporary data.table\n",
    "    setnames(tmp, \"time\", \"ForecastingTime\")  # Change column \"time\" name for \"ForecastingTime\"\n",
    "    tmp[ , Member := factor(m-1) ]  # Factorization of ensemble member name\n",
    "    tmp[ , InitializationTime := InitTime ]  # Add IT column to the data.table\n",
    "    Tracks <- rbind(Tracks, tmp)  # Concatenate with final data.table\n",
    "    rm(tmp); gc()  # Remove temporary data.table and free memory\n",
    "  }\n",
    "}\n",
    "# Forecast horizon HZ (1 = analysis, 14 = +39 hrs)\n",
    "Tracks[ , Horizon := as.numeric((ForecastingTime - InitializationTime)/3600)]\n",
    "# Needed modification of the TC center position (+/- 1m maximum).\n",
    "Tracks[ , `:=`(X = jitter(X, amount = jitter_amount),  Y = jitter(Y, amount = jitter_amount)) ]\n",
    "# Grouping variable based on the combination of IT and EM\n",
    "Tracks[ , gr := .GRP, .(InitializationTime, Member)]\n",
    "# Normalization by global mean and sd in both X and Y directions\n",
    "Tracks[ , `:=`(X = scale(X), Y = scale(Y)) ]\n",
    "# Time delta\n",
    "Tracks[ , dT := (as.numeric(shift(ForecastingTime, -1)) - as.numeric(ForecastingTime))/(60*60), .(gr)]\n",
    "# Spatial delta\n",
    "Tracks[ , dX := round(shift(X, -1) - X, 4), .(gr)]\n",
    "Tracks[ , dY := round(shift(Y, -1) - Y, 4), .(gr)]\n",
    "# Midpoints between 2 consecutive positions\n",
    "Tracks[ , `:=`(Xm = (shift(X, -1) + X)/2, Ym = (shift(Y, -1) + Y)/2), .(gr) ]\n",
    "# Velocities\n",
    "Tracks[ , velocX := round(dX/dT, 4)/1, .(gr)]\n",
    "Tracks[ , velocY := round(dY/dT, 4)/1, .(gr)]\n",
    "# Removing rows with no position/velocity\n",
    "Tracks <- Tracks[ !is.na(dT) ]\n",
    "# Set order by IT, then EM, then HZ\n",
    "setorder(Tracks, InitializationTime, Member, Horizon)"
   ]
  },
  {
   "cell_type": "code",
   "execution_count": 4,
   "id": "d298cf83",
   "metadata": {
    "scrolled": true
   },
   "outputs": [
    {
     "data": {
      "text/html": [
       "<table class=\"dataframe\">\n",
       "<caption>A data.table: 5 × 18</caption>\n",
       "<thead>\n",
       "\t<tr><th scope=col>ForecastingTime</th><th scope=col>lon</th><th scope=col>lat</th><th scope=col>X</th><th scope=col>Y</th><th scope=col>X1</th><th scope=col>Y1</th><th scope=col>Member</th><th scope=col>InitializationTime</th><th scope=col>Horizon</th><th scope=col>gr</th><th scope=col>dT</th><th scope=col>dX</th><th scope=col>dY</th><th scope=col>Xm</th><th scope=col>Ym</th><th scope=col>velocX</th><th scope=col>velocY</th></tr>\n",
       "\t<tr><th scope=col>&lt;dttm&gt;</th><th scope=col>&lt;dbl&gt;</th><th scope=col>&lt;dbl&gt;</th><th scope=col>&lt;dbl&gt;</th><th scope=col>&lt;dbl&gt;</th><th scope=col>&lt;dbl&gt;</th><th scope=col>&lt;dbl&gt;</th><th scope=col>&lt;fct&gt;</th><th scope=col>&lt;dttm&gt;</th><th scope=col>&lt;dbl&gt;</th><th scope=col>&lt;int&gt;</th><th scope=col>&lt;dbl&gt;</th><th scope=col>&lt;dbl&gt;</th><th scope=col>&lt;dbl&gt;</th><th scope=col>&lt;dbl&gt;</th><th scope=col>&lt;dbl&gt;</th><th scope=col>&lt;dbl&gt;</th><th scope=col>&lt;dbl&gt;</th></tr>\n",
       "</thead>\n",
       "<tbody>\n",
       "\t<tr><td>2022-08-09 12:00:00</td><td>142.18</td><td>24.69</td><td>3.102431</td><td>-1.525467</td><td> 0.0000000</td><td>0.00000000</td><td>0</td><td>2022-08-09 12:00:00</td><td> 0</td><td>1</td><td>3</td><td>-0.3063</td><td> 0.2267</td><td>2.949292</td><td>-1.412136</td><td>-0.1021</td><td> 0.0756</td></tr>\n",
       "\t<tr><td>2022-08-09 15:00:00</td><td>141.69</td><td>25.44</td><td>2.796152</td><td>-1.298804</td><td>-0.2309196</td><td>0.70103467</td><td>0</td><td>2022-08-09 12:00:00</td><td> 3</td><td>1</td><td>3</td><td>-0.5679</td><td>-0.2064</td><td>2.512209</td><td>-1.402011</td><td>-0.1893</td><td>-0.0688</td></tr>\n",
       "\t<tr><td>2022-08-09 18:00:00</td><td>140.67</td><td>24.82</td><td>2.228266</td><td>-1.505218</td><td>-0.6590710</td><td>0.06261472</td><td>0</td><td>2022-08-09 12:00:00</td><td> 6</td><td>1</td><td>3</td><td>-0.2065</td><td> 0.2733</td><td>2.124992</td><td>-1.368584</td><td>-0.0688</td><td> 0.0911</td></tr>\n",
       "\t<tr><td>2022-08-09 21:00:00</td><td>140.35</td><td>25.71</td><td>2.021717</td><td>-1.231949</td><td>-0.8148032</td><td>0.90779954</td><td>0</td><td>2022-08-09 12:00:00</td><td> 9</td><td>1</td><td>3</td><td>-0.1665</td><td>-0.0656</td><td>1.938475</td><td>-1.264728</td><td>-0.0555</td><td>-0.0219</td></tr>\n",
       "\t<tr><td>2022-08-10 00:00:00</td><td>140.05</td><td>25.51</td><td>1.855234</td><td>-1.297507</td><td>-0.9403214</td><td>0.70504272</td><td>0</td><td>2022-08-09 12:00:00</td><td>12</td><td>1</td><td>3</td><td>-0.0601</td><td> 0.1858</td><td>1.825202</td><td>-1.204614</td><td>-0.0200</td><td> 0.0619</td></tr>\n",
       "</tbody>\n",
       "</table>\n"
      ],
      "text/latex": [
       "A data.table: 5 × 18\n",
       "\\begin{tabular}{llllllllllllllllll}\n",
       " ForecastingTime & lon & lat & X & Y & X1 & Y1 & Member & InitializationTime & Horizon & gr & dT & dX & dY & Xm & Ym & velocX & velocY\\\\\n",
       " <dttm> & <dbl> & <dbl> & <dbl> & <dbl> & <dbl> & <dbl> & <fct> & <dttm> & <dbl> & <int> & <dbl> & <dbl> & <dbl> & <dbl> & <dbl> & <dbl> & <dbl>\\\\\n",
       "\\hline\n",
       "\t 2022-08-09 12:00:00 & 142.18 & 24.69 & 3.102431 & -1.525467 &  0.0000000 & 0.00000000 & 0 & 2022-08-09 12:00:00 &  0 & 1 & 3 & -0.3063 &  0.2267 & 2.949292 & -1.412136 & -0.1021 &  0.0756\\\\\n",
       "\t 2022-08-09 15:00:00 & 141.69 & 25.44 & 2.796152 & -1.298804 & -0.2309196 & 0.70103467 & 0 & 2022-08-09 12:00:00 &  3 & 1 & 3 & -0.5679 & -0.2064 & 2.512209 & -1.402011 & -0.1893 & -0.0688\\\\\n",
       "\t 2022-08-09 18:00:00 & 140.67 & 24.82 & 2.228266 & -1.505218 & -0.6590710 & 0.06261472 & 0 & 2022-08-09 12:00:00 &  6 & 1 & 3 & -0.2065 &  0.2733 & 2.124992 & -1.368584 & -0.0688 &  0.0911\\\\\n",
       "\t 2022-08-09 21:00:00 & 140.35 & 25.71 & 2.021717 & -1.231949 & -0.8148032 & 0.90779954 & 0 & 2022-08-09 12:00:00 &  9 & 1 & 3 & -0.1665 & -0.0656 & 1.938475 & -1.264728 & -0.0555 & -0.0219\\\\\n",
       "\t 2022-08-10 00:00:00 & 140.05 & 25.51 & 1.855234 & -1.297507 & -0.9403214 & 0.70504272 & 0 & 2022-08-09 12:00:00 & 12 & 1 & 3 & -0.0601 &  0.1858 & 1.825202 & -1.204614 & -0.0200 &  0.0619\\\\\n",
       "\\end{tabular}\n"
      ],
      "text/markdown": [
       "\n",
       "A data.table: 5 × 18\n",
       "\n",
       "| ForecastingTime &lt;dttm&gt; | lon &lt;dbl&gt; | lat &lt;dbl&gt; | X &lt;dbl&gt; | Y &lt;dbl&gt; | X1 &lt;dbl&gt; | Y1 &lt;dbl&gt; | Member &lt;fct&gt; | InitializationTime &lt;dttm&gt; | Horizon &lt;dbl&gt; | gr &lt;int&gt; | dT &lt;dbl&gt; | dX &lt;dbl&gt; | dY &lt;dbl&gt; | Xm &lt;dbl&gt; | Ym &lt;dbl&gt; | velocX &lt;dbl&gt; | velocY &lt;dbl&gt; |\n",
       "|---|---|---|---|---|---|---|---|---|---|---|---|---|---|---|---|---|---|\n",
       "| 2022-08-09 12:00:00 | 142.18 | 24.69 | 3.102431 | -1.525467 |  0.0000000 | 0.00000000 | 0 | 2022-08-09 12:00:00 |  0 | 1 | 3 | -0.3063 |  0.2267 | 2.949292 | -1.412136 | -0.1021 |  0.0756 |\n",
       "| 2022-08-09 15:00:00 | 141.69 | 25.44 | 2.796152 | -1.298804 | -0.2309196 | 0.70103467 | 0 | 2022-08-09 12:00:00 |  3 | 1 | 3 | -0.5679 | -0.2064 | 2.512209 | -1.402011 | -0.1893 | -0.0688 |\n",
       "| 2022-08-09 18:00:00 | 140.67 | 24.82 | 2.228266 | -1.505218 | -0.6590710 | 0.06261472 | 0 | 2022-08-09 12:00:00 |  6 | 1 | 3 | -0.2065 |  0.2733 | 2.124992 | -1.368584 | -0.0688 |  0.0911 |\n",
       "| 2022-08-09 21:00:00 | 140.35 | 25.71 | 2.021717 | -1.231949 | -0.8148032 | 0.90779954 | 0 | 2022-08-09 12:00:00 |  9 | 1 | 3 | -0.1665 | -0.0656 | 1.938475 | -1.264728 | -0.0555 | -0.0219 |\n",
       "| 2022-08-10 00:00:00 | 140.05 | 25.51 | 1.855234 | -1.297507 | -0.9403214 | 0.70504272 | 0 | 2022-08-09 12:00:00 | 12 | 1 | 3 | -0.0601 |  0.1858 | 1.825202 | -1.204614 | -0.0200 |  0.0619 |\n",
       "\n"
      ],
      "text/plain": [
       "  ForecastingTime     lon    lat   X        Y         X1         Y1         Member InitializationTime  Horizon gr dT dX      dY      Xm       Ym        velocX  velocY \n",
       "1 2022-08-09 12:00:00 142.18 24.69 3.102431 -1.525467  0.0000000 0.00000000 0      2022-08-09 12:00:00  0      1  3  -0.3063  0.2267 2.949292 -1.412136 -0.1021  0.0756\n",
       "2 2022-08-09 15:00:00 141.69 25.44 2.796152 -1.298804 -0.2309196 0.70103467 0      2022-08-09 12:00:00  3      1  3  -0.5679 -0.2064 2.512209 -1.402011 -0.1893 -0.0688\n",
       "3 2022-08-09 18:00:00 140.67 24.82 2.228266 -1.505218 -0.6590710 0.06261472 0      2022-08-09 12:00:00  6      1  3  -0.2065  0.2733 2.124992 -1.368584 -0.0688  0.0911\n",
       "4 2022-08-09 21:00:00 140.35 25.71 2.021717 -1.231949 -0.8148032 0.90779954 0      2022-08-09 12:00:00  9      1  3  -0.1665 -0.0656 1.938475 -1.264728 -0.0555 -0.0219\n",
       "5 2022-08-10 00:00:00 140.05 25.51 1.855234 -1.297507 -0.9403214 0.70504272 0      2022-08-09 12:00:00 12      1  3  -0.0601  0.1858 1.825202 -1.204614 -0.0200  0.0619"
      ]
     },
     "metadata": {},
     "output_type": "display_data"
    }
   ],
   "source": [
    "# Vizualization of the 5 first rows of \"Tracks\" data.table\n",
    "Tracks[1:5]"
   ]
  },
  {
   "cell_type": "markdown",
   "id": "6b190b55",
   "metadata": {},
   "source": [
    "## Clusters"
   ]
  },
  {
   "cell_type": "code",
   "execution_count": 5,
   "id": "9cc358e9",
   "metadata": {},
   "outputs": [],
   "source": [
    "# Definition of the clusters\n",
    "\n",
    "# Cluster \"Northward\"\n",
    "xs <- list(x = c(1.19217051629774, 3.68287740788678, 4.28724010952236, \n",
    "                 4.1224139181672, 1.9247313667651, 1.08228638872763), \n",
    "           y = c(2.65607360250815, \n",
    "                 4.08456726091951, 3.2970643466671, 2.49124741115299, 1.46566222049868, \n",
    "                 2.58281751746141\n",
    "           ))$x\n",
    "ys <- list(x = c(1.19217051629774, 3.68287740788678, 4.28724010952236, \n",
    "                 4.1224139181672, 1.9247313667651, 1.08228638872763), \n",
    "           y = c(2.65607360250815, \n",
    "                 4.08456726091951, 3.2970643466671, 2.49124741115299, 1.46566222049868, \n",
    "                 2.58281751746141\n",
    "           ))$y\n",
    "\n",
    "# Spatial polygon (Projected coordinate system)\n",
    "Northward <- tibble(x = xs, y = ys, ID = 1) %>% \n",
    "  st_as_sf(coords = c(\"x\",\"y\"), crs = eqdc) %>% \n",
    "  dplyr::group_by(ID) %>% \n",
    "  dplyr::summarise() %>%\n",
    "  st_cast(\"POLYGON\") %>% \n",
    "  st_convex_hull()\n",
    "\n",
    "\n",
    "# Cluster \"Westward\"\n",
    "xs <- list(x = c(-2.26917950216057, -2.21423743837551, -0.950569971319307, \n",
    "                 -0.822371822487518, -1.49999060916983, -2.03109722575867, -2.14098135332878), \n",
    "           y = c(-0.713706309641731, -1.46458118137078, -1.37301107506236, \n",
    "                 -1.02504467109036, -0.493938054501522, -0.31079784188468, -0.493938054501522\n",
    "           ))$x\n",
    "ys <- list(x = c(-2.26917950216057, -2.21423743837551, -0.950569971319307, \n",
    "                 -0.822371822487518, -1.49999060916983, -2.03109722575867, -2.14098135332878), \n",
    "           y = c(-0.713706309641731, -1.46458118137078, -1.37301107506236, \n",
    "                 -1.02504467109036, -0.493938054501522, -0.31079784188468, -0.493938054501522\n",
    "           ))$y\n",
    "\n",
    "# Spatial polygon (Projected coordinate system)\n",
    "Westward <- tibble(x = xs, y = ys, ID = 1) %>% \n",
    "  st_as_sf(coords = c(\"x\",\"y\"), crs = eqdc) %>% \n",
    "  dplyr::group_by(ID) %>% \n",
    "  dplyr::summarise() %>%\n",
    "  st_cast(\"POLYGON\") %>% \n",
    "  st_convex_hull()\n",
    "\n",
    "\n",
    "# Cluster \"Start\"\n",
    "xs <- list(x = c(3.35322502517647, 2.95031655741942, 2.07124353685858, \n",
    "                 2.19944168569037, 3.48142317400826), \n",
    "           y = c(-1.29975499001562, \n",
    "                 -1.72097747903436, -1.66603541524931, -0.970102607305309, -1.17155684118383\n",
    "           ))$x\n",
    "ys <- list(x = c(3.35322502517647, 2.95031655741942, 2.07124353685858, \n",
    "                 2.19944168569037, 3.48142317400826), \n",
    "           y = c(-1.29975499001562, \n",
    "                 -1.72097747903436, -1.66603541524931, -0.970102607305309, -1.17155684118383\n",
    "           ))$y\n",
    "\n",
    "# Spatial polygon (Projected coordinate system)\n",
    "Start <- tibble(x = xs, y = ys, ID = 1) %>% \n",
    "  st_as_sf(coords = c(\"x\",\"y\"), crs = eqdc) %>% \n",
    "  dplyr::group_by(ID) %>% \n",
    "  dplyr::summarise() %>%\n",
    "  st_cast(\"POLYGON\") %>% \n",
    "  st_convex_hull()\n",
    "\n",
    "\n",
    "# Extracting TC centers and project into new coordinate system\n",
    "Tracks[ , .(X, Y)] %>%\n",
    "  st_as_sf(coords = c(\"X\",\"Y\"), crs = eqdc) -> Y\n",
    "\n",
    "# Initialiaze Cluster column (TC centers not belonging to any cluster is blank)\n",
    "Tracks[ , Cluster := \" \"]\n",
    "\n",
    "# Capturing row index of TC centers inside polygon \"Start\"\n",
    "idx <- st_contains(Start, Y)[[1]]\n",
    "# Write cluster name\n",
    "Tracks[idx, Cluster := \"Start\"]\n",
    "rm(idx)\n",
    "\n",
    "# Capturing row index of TC centers inside polygon \"Northward\"\n",
    "idx <- st_contains(Northward, Y)[[1]]\n",
    "# Write cluster name\n",
    "Tracks[idx, Cluster := \"Northward\"]\n",
    "rm(idx)\n",
    "\n",
    "# Capturing row index of TC centers inside polygon \"Eastward\"\n",
    "idx <- st_contains(Westward, Y)[[1]]\n",
    "# Write cluster name\n",
    "Tracks[idx, Cluster := \"Westward\"]\n",
    "rm(idx)"
   ]
  },
  {
   "cell_type": "code",
   "execution_count": 6,
   "id": "d99dd2aa",
   "metadata": {},
   "outputs": [
    {
     "data": {
      "text/html": [
       "<table class=\"dataframe\">\n",
       "<caption>A data.table: 5 × 19</caption>\n",
       "<thead>\n",
       "\t<tr><th scope=col>ForecastingTime</th><th scope=col>lon</th><th scope=col>lat</th><th scope=col>X</th><th scope=col>Y</th><th scope=col>X1</th><th scope=col>Y1</th><th scope=col>Member</th><th scope=col>InitializationTime</th><th scope=col>Horizon</th><th scope=col>gr</th><th scope=col>dT</th><th scope=col>dX</th><th scope=col>dY</th><th scope=col>Xm</th><th scope=col>Ym</th><th scope=col>velocX</th><th scope=col>velocY</th><th scope=col>Cluster</th></tr>\n",
       "\t<tr><th scope=col>&lt;dttm&gt;</th><th scope=col>&lt;dbl&gt;</th><th scope=col>&lt;dbl&gt;</th><th scope=col>&lt;dbl&gt;</th><th scope=col>&lt;dbl&gt;</th><th scope=col>&lt;dbl&gt;</th><th scope=col>&lt;dbl&gt;</th><th scope=col>&lt;fct&gt;</th><th scope=col>&lt;dttm&gt;</th><th scope=col>&lt;dbl&gt;</th><th scope=col>&lt;int&gt;</th><th scope=col>&lt;dbl&gt;</th><th scope=col>&lt;dbl&gt;</th><th scope=col>&lt;dbl&gt;</th><th scope=col>&lt;dbl&gt;</th><th scope=col>&lt;dbl&gt;</th><th scope=col>&lt;dbl&gt;</th><th scope=col>&lt;dbl&gt;</th><th scope=col>&lt;chr&gt;</th></tr>\n",
       "</thead>\n",
       "<tbody>\n",
       "\t<tr><td>2022-08-09 12:00:00</td><td>142.18</td><td>24.69</td><td>3.102431</td><td>-1.525467</td><td> 0.0000000</td><td>0.00000000</td><td>0</td><td>2022-08-09 12:00:00</td><td> 0</td><td>1</td><td>3</td><td>-0.3063</td><td> 0.2267</td><td>2.949292</td><td>-1.412136</td><td>-0.1021</td><td> 0.0756</td><td>Start</td></tr>\n",
       "\t<tr><td>2022-08-09 15:00:00</td><td>141.69</td><td>25.44</td><td>2.796152</td><td>-1.298804</td><td>-0.2309196</td><td>0.70103467</td><td>0</td><td>2022-08-09 12:00:00</td><td> 3</td><td>1</td><td>3</td><td>-0.5679</td><td>-0.2064</td><td>2.512209</td><td>-1.402011</td><td>-0.1893</td><td>-0.0688</td><td>Start</td></tr>\n",
       "\t<tr><td>2022-08-09 18:00:00</td><td>140.67</td><td>24.82</td><td>2.228266</td><td>-1.505218</td><td>-0.6590710</td><td>0.06261472</td><td>0</td><td>2022-08-09 12:00:00</td><td> 6</td><td>1</td><td>3</td><td>-0.2065</td><td> 0.2733</td><td>2.124992</td><td>-1.368584</td><td>-0.0688</td><td> 0.0911</td><td>Start</td></tr>\n",
       "\t<tr><td>2022-08-09 21:00:00</td><td>140.35</td><td>25.71</td><td>2.021717</td><td>-1.231949</td><td>-0.8148032</td><td>0.90779954</td><td>0</td><td>2022-08-09 12:00:00</td><td> 9</td><td>1</td><td>3</td><td>-0.1665</td><td>-0.0656</td><td>1.938475</td><td>-1.264728</td><td>-0.0555</td><td>-0.0219</td><td>     </td></tr>\n",
       "\t<tr><td>2022-08-10 00:00:00</td><td>140.05</td><td>25.51</td><td>1.855234</td><td>-1.297507</td><td>-0.9403214</td><td>0.70504272</td><td>0</td><td>2022-08-09 12:00:00</td><td>12</td><td>1</td><td>3</td><td>-0.0601</td><td> 0.1858</td><td>1.825202</td><td>-1.204614</td><td>-0.0200</td><td> 0.0619</td><td>     </td></tr>\n",
       "</tbody>\n",
       "</table>\n"
      ],
      "text/latex": [
       "A data.table: 5 × 19\n",
       "\\begin{tabular}{lllllllllllllllllll}\n",
       " ForecastingTime & lon & lat & X & Y & X1 & Y1 & Member & InitializationTime & Horizon & gr & dT & dX & dY & Xm & Ym & velocX & velocY & Cluster\\\\\n",
       " <dttm> & <dbl> & <dbl> & <dbl> & <dbl> & <dbl> & <dbl> & <fct> & <dttm> & <dbl> & <int> & <dbl> & <dbl> & <dbl> & <dbl> & <dbl> & <dbl> & <dbl> & <chr>\\\\\n",
       "\\hline\n",
       "\t 2022-08-09 12:00:00 & 142.18 & 24.69 & 3.102431 & -1.525467 &  0.0000000 & 0.00000000 & 0 & 2022-08-09 12:00:00 &  0 & 1 & 3 & -0.3063 &  0.2267 & 2.949292 & -1.412136 & -0.1021 &  0.0756 & Start\\\\\n",
       "\t 2022-08-09 15:00:00 & 141.69 & 25.44 & 2.796152 & -1.298804 & -0.2309196 & 0.70103467 & 0 & 2022-08-09 12:00:00 &  3 & 1 & 3 & -0.5679 & -0.2064 & 2.512209 & -1.402011 & -0.1893 & -0.0688 & Start\\\\\n",
       "\t 2022-08-09 18:00:00 & 140.67 & 24.82 & 2.228266 & -1.505218 & -0.6590710 & 0.06261472 & 0 & 2022-08-09 12:00:00 &  6 & 1 & 3 & -0.2065 &  0.2733 & 2.124992 & -1.368584 & -0.0688 &  0.0911 & Start\\\\\n",
       "\t 2022-08-09 21:00:00 & 140.35 & 25.71 & 2.021717 & -1.231949 & -0.8148032 & 0.90779954 & 0 & 2022-08-09 12:00:00 &  9 & 1 & 3 & -0.1665 & -0.0656 & 1.938475 & -1.264728 & -0.0555 & -0.0219 &      \\\\\n",
       "\t 2022-08-10 00:00:00 & 140.05 & 25.51 & 1.855234 & -1.297507 & -0.9403214 & 0.70504272 & 0 & 2022-08-09 12:00:00 & 12 & 1 & 3 & -0.0601 &  0.1858 & 1.825202 & -1.204614 & -0.0200 &  0.0619 &      \\\\\n",
       "\\end{tabular}\n"
      ],
      "text/markdown": [
       "\n",
       "A data.table: 5 × 19\n",
       "\n",
       "| ForecastingTime &lt;dttm&gt; | lon &lt;dbl&gt; | lat &lt;dbl&gt; | X &lt;dbl&gt; | Y &lt;dbl&gt; | X1 &lt;dbl&gt; | Y1 &lt;dbl&gt; | Member &lt;fct&gt; | InitializationTime &lt;dttm&gt; | Horizon &lt;dbl&gt; | gr &lt;int&gt; | dT &lt;dbl&gt; | dX &lt;dbl&gt; | dY &lt;dbl&gt; | Xm &lt;dbl&gt; | Ym &lt;dbl&gt; | velocX &lt;dbl&gt; | velocY &lt;dbl&gt; | Cluster &lt;chr&gt; |\n",
       "|---|---|---|---|---|---|---|---|---|---|---|---|---|---|---|---|---|---|---|\n",
       "| 2022-08-09 12:00:00 | 142.18 | 24.69 | 3.102431 | -1.525467 |  0.0000000 | 0.00000000 | 0 | 2022-08-09 12:00:00 |  0 | 1 | 3 | -0.3063 |  0.2267 | 2.949292 | -1.412136 | -0.1021 |  0.0756 | Start |\n",
       "| 2022-08-09 15:00:00 | 141.69 | 25.44 | 2.796152 | -1.298804 | -0.2309196 | 0.70103467 | 0 | 2022-08-09 12:00:00 |  3 | 1 | 3 | -0.5679 | -0.2064 | 2.512209 | -1.402011 | -0.1893 | -0.0688 | Start |\n",
       "| 2022-08-09 18:00:00 | 140.67 | 24.82 | 2.228266 | -1.505218 | -0.6590710 | 0.06261472 | 0 | 2022-08-09 12:00:00 |  6 | 1 | 3 | -0.2065 |  0.2733 | 2.124992 | -1.368584 | -0.0688 |  0.0911 | Start |\n",
       "| 2022-08-09 21:00:00 | 140.35 | 25.71 | 2.021717 | -1.231949 | -0.8148032 | 0.90779954 | 0 | 2022-08-09 12:00:00 |  9 | 1 | 3 | -0.1665 | -0.0656 | 1.938475 | -1.264728 | -0.0555 | -0.0219 | <!----> |\n",
       "| 2022-08-10 00:00:00 | 140.05 | 25.51 | 1.855234 | -1.297507 | -0.9403214 | 0.70504272 | 0 | 2022-08-09 12:00:00 | 12 | 1 | 3 | -0.0601 |  0.1858 | 1.825202 | -1.204614 | -0.0200 |  0.0619 | <!----> |\n",
       "\n"
      ],
      "text/plain": [
       "  ForecastingTime     lon    lat   X        Y         X1         Y1         Member InitializationTime  Horizon gr dT dX      dY      Xm       Ym        velocX  velocY  Cluster\n",
       "1 2022-08-09 12:00:00 142.18 24.69 3.102431 -1.525467  0.0000000 0.00000000 0      2022-08-09 12:00:00  0      1  3  -0.3063  0.2267 2.949292 -1.412136 -0.1021  0.0756 Start  \n",
       "2 2022-08-09 15:00:00 141.69 25.44 2.796152 -1.298804 -0.2309196 0.70103467 0      2022-08-09 12:00:00  3      1  3  -0.5679 -0.2064 2.512209 -1.402011 -0.1893 -0.0688 Start  \n",
       "3 2022-08-09 18:00:00 140.67 24.82 2.228266 -1.505218 -0.6590710 0.06261472 0      2022-08-09 12:00:00  6      1  3  -0.2065  0.2733 2.124992 -1.368584 -0.0688  0.0911 Start  \n",
       "4 2022-08-09 21:00:00 140.35 25.71 2.021717 -1.231949 -0.8148032 0.90779954 0      2022-08-09 12:00:00  9      1  3  -0.1665 -0.0656 1.938475 -1.264728 -0.0555 -0.0219        \n",
       "5 2022-08-10 00:00:00 140.05 25.51 1.855234 -1.297507 -0.9403214 0.70504272 0      2022-08-09 12:00:00 12      1  3  -0.0601  0.1858 1.825202 -1.204614 -0.0200  0.0619        "
      ]
     },
     "metadata": {},
     "output_type": "display_data"
    }
   ],
   "source": [
    "# Vizualization of the 5 first rows of \"Tracks\" data.table\n",
    "Tracks[1:5]"
   ]
  },
  {
   "cell_type": "markdown",
   "id": "3fcbb34a",
   "metadata": {},
   "source": [
    "## Creating the annotated data matrix (anndata)"
   ]
  },
  {
   "cell_type": "code",
   "execution_count": 7,
   "id": "eaa85acf",
   "metadata": {},
   "outputs": [
    {
     "name": "stdout",
     "output_type": "stream",
     "text": [
      "-2.186697 4.286979 \n"
     ]
    }
   ],
   "source": [
    "# Annotated data matrix (anndata)\n",
    "adata <- AnnData(\n",
    "  as.data.frame(Tracks[,.(Xm,Ym)]),\n",
    "  obs = data.frame(clusters = factor(Tracks$Cluster), row.names = rownames(Tracks)),\n",
    "  obsm = list(X_std = as.matrix(Tracks[,.(Xm,Ym)]), velocity_std = as.matrix(Tracks[,.(velocX,velocY)])),\n",
    "  layers = list(velocity = as.matrix(Tracks[,.(velocX,velocY)]))\n",
    ")\n",
    "# Range of midpoints\n",
    "cat(range(adata$obsm$X_std), \"\\n\")"
   ]
  },
  {
   "cell_type": "code",
   "execution_count": 8,
   "id": "885da476",
   "metadata": {},
   "outputs": [
    {
     "data": {
      "text/plain": [
       "AnnData object with n_obs × n_vars = 3549 × 2\n",
       "    obs: 'clusters'\n",
       "    obsm: 'X_std', 'velocity_std'\n",
       "    layers: 'velocity'"
      ]
     },
     "metadata": {},
     "output_type": "display_data"
    }
   ],
   "source": [
    "# Vizualization of anndata\n",
    "adata"
   ]
  },
  {
   "cell_type": "code",
   "execution_count": 9,
   "id": "792393e7",
   "metadata": {},
   "outputs": [],
   "source": [
    "# Write anndata on disk \n",
    "write_h5ad(adata, file = paste(\".\", paste(\"adata\", \"h5ad\", sep = \".\"), sep = \"/\"))"
   ]
  }
 ],
 "metadata": {
  "kernelspec": {
   "display_name": "R",
   "language": "R",
   "name": "ir"
  },
  "language_info": {
   "codemirror_mode": "r",
   "file_extension": ".r",
   "mimetype": "text/x-r-source",
   "name": "R",
   "pygments_lexer": "r",
   "version": "4.4.1"
  }
 },
 "nbformat": 4,
 "nbformat_minor": 5
}
